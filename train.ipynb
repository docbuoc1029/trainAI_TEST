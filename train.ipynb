{
 "cells": [
  {
   "cell_type": "markdown",
   "id": "ff885409-14e5-46f3-8804-c9fc450d40b5",
   "metadata": {},
   "source": [
    "# Import thư viện"
   ]
  },
  {
   "cell_type": "code",
   "execution_count": 1,
   "id": "f577ec8c-74b2-41b5-945e-f48727742849",
   "metadata": {},
   "outputs": [],
   "source": [
    "import copy\n",
    "import numpy as np\n",
    "import pandas as pd\n",
    "from sklearn.preprocessing import OneHotEncoder\n",
    "import matplotlib.pyplot as plt\n",
    "import seaborn as sns\n",
    "from sklearn.preprocessing import StandardScaler\n",
    "from sklearn.model_selection import train_test_split\n",
    "from sklearn.metrics import mean_squared_error\n",
    "from sklearn.linear_model import LinearRegression\n",
    "from sklearn import metrics\n",
    "from sklearn.metrics import r2_score\n",
    "import pickle\n",
    "from sklearn.compose import make_column_transformer\n",
    "from sklearn.pipeline import make_pipeline\n",
    "from sklearn.ensemble import RandomForestRegressor\n",
    "import numpy as np\n",
    "from sklearn.linear_model import Ridge\n",
    "from sklearn.model_selection import GridSearchCV\n",
    "from sklearn.metrics import mean_absolute_error, mean_squared_error, r2_score"
   ]
  },
  {
   "cell_type": "markdown",
   "id": "e8d5db3f-24f2-4d95-ad41-2e1f35124924",
   "metadata": {},
   "source": [
    "# Load Data"
   ]
  },
  {
   "cell_type": "code",
   "execution_count": 2,
   "id": "7a2bf72a-d271-43eb-8863-059f76c47d9c",
   "metadata": {},
   "outputs": [],
   "source": [
    "df = pd.read_csv('C:/Users/BXT/Desktop/New folder2/data/data.csv')\n",
    "backup = copy.deepcopy(df)"
   ]
  },
  {
   "cell_type": "markdown",
   "id": "3fb8f303-e5f7-49be-8cc3-ff6c54fcc99e",
   "metadata": {},
   "source": [
    "# Describle Data"
   ]
  },
  {
   "cell_type": "code",
   "execution_count": 3,
   "id": "56540357-5015-4cdd-8343-315e94c16a21",
   "metadata": {},
   "outputs": [
    {
     "name": "stdout",
     "output_type": "stream",
     "text": [
      "Shape of data:\n",
      " (26956, 11)\n",
      "----------------------------------------\n",
      "Columns of data: \n",
      " Index(['car_name', 'year', 'price', 'assemble_place', 'series', 'driven kms',\n",
      "       'num_of_door', 'num_of_seat', 'engine_type', 'transmission', 'url'],\n",
      "      dtype='object')\n",
      "----------------------------------------\n",
      "Data types of data: \n",
      " car_name           object\n",
      "year               object\n",
      "price              object\n",
      "assemble_place     object\n",
      "series             object\n",
      "driven kms        float64\n",
      "num_of_door       float64\n",
      "num_of_seat       float64\n",
      "engine_type        object\n",
      "transmission       object\n",
      "url                object\n",
      "dtype: object\n",
      "----------------------------------------\n",
      "Missing values of data: \n",
      " car_name          38\n",
      "year              11\n",
      "price             11\n",
      "assemble_place    11\n",
      "series            11\n",
      "driven kms        11\n",
      "num_of_door       11\n",
      "num_of_seat       11\n",
      "engine_type       11\n",
      "transmission      11\n",
      "url               11\n",
      "dtype: int64\n",
      "----------------------------------------\n",
      "Describe data: \n",
      "          driven kms   num_of_door   num_of_seat\n",
      "count  2.694500e+04  26945.000000  26945.000000\n",
      "mean   4.809838e+05      4.515272      5.537317\n",
      "std    3.062607e+07      0.913087      1.687252\n",
      "min    1.000000e+00      1.000000      2.000000\n",
      "25%    2.215100e+04      4.000000      5.000000\n",
      "50%    4.900000e+04      5.000000      5.000000\n",
      "75%    8.000000e+04      5.000000      5.000000\n",
      "max    4.294967e+09     54.000000     47.000000\n",
      "----------------------------------------\n",
      "<class 'pandas.core.frame.DataFrame'>\n",
      "RangeIndex: 26956 entries, 0 to 26955\n",
      "Data columns (total 11 columns):\n",
      " #   Column          Non-Null Count  Dtype  \n",
      "---  ------          --------------  -----  \n",
      " 0   car_name        26918 non-null  object \n",
      " 1   year            26945 non-null  object \n",
      " 2   price           26945 non-null  object \n",
      " 3   assemble_place  26945 non-null  object \n",
      " 4   series          26945 non-null  object \n",
      " 5   driven kms      26945 non-null  float64\n",
      " 6   num_of_door     26945 non-null  float64\n",
      " 7   num_of_seat     26945 non-null  float64\n",
      " 8   engine_type     26945 non-null  object \n",
      " 9   transmission    26945 non-null  object \n",
      " 10  url             26945 non-null  object \n",
      "dtypes: float64(3), object(8)\n",
      "memory usage: 2.3+ MB\n",
      "Info data: \n",
      " None\n"
     ]
    }
   ],
   "source": [
    "def describle_data():\n",
    "    print('Shape of data:\\n', df.shape)\n",
    "    print('--'*20)\n",
    "    print('Columns of data: \\n', df.columns)\n",
    "    print('--'*20)\n",
    "    print('Data types of data: \\n', df.dtypes)\n",
    "    print('--'*20)\n",
    "    print('Missing values of data: \\n', df.isna().sum())\n",
    "    print('--'*20)\n",
    "    print('Describe data: \\n', df.describe())\n",
    "    print('--'*20)\n",
    "    print('Info data: \\n', df.info())\n",
    "describle_data()"
   ]
  },
  {
   "cell_type": "markdown",
   "id": "780c0b43-00bd-4965-8903-db1a9aba0e83",
   "metadata": {},
   "source": [
    "# Xử lý dữ liệu trùng lặp"
   ]
  },
  {
   "cell_type": "code",
   "execution_count": 4,
   "id": "bfec0387-a38c-45d3-b693-7c9ff67e3499",
   "metadata": {},
   "outputs": [
    {
     "name": "stdout",
     "output_type": "stream",
     "text": [
      "Shape of data:\n",
      " (25157, 11)\n",
      "----------------------------------------\n",
      "Columns of data: \n",
      " Index(['car_name', 'year', 'price', 'assemble_place', 'series', 'driven kms',\n",
      "       'num_of_door', 'num_of_seat', 'engine_type', 'transmission', 'url'],\n",
      "      dtype='object')\n",
      "----------------------------------------\n",
      "Data types of data: \n",
      " car_name           object\n",
      "year               object\n",
      "price              object\n",
      "assemble_place     object\n",
      "series             object\n",
      "driven kms        float64\n",
      "num_of_door       float64\n",
      "num_of_seat       float64\n",
      "engine_type        object\n",
      "transmission       object\n",
      "url                object\n",
      "dtype: object\n",
      "----------------------------------------\n",
      "Missing values of data: \n",
      " car_name          35\n",
      "year               1\n",
      "price              1\n",
      "assemble_place     1\n",
      "series             1\n",
      "driven kms         1\n",
      "num_of_door        1\n",
      "num_of_seat        1\n",
      "engine_type        1\n",
      "transmission       1\n",
      "url                1\n",
      "dtype: int64\n",
      "----------------------------------------\n",
      "Describe data: \n",
      "          driven kms   num_of_door   num_of_seat\n",
      "count  2.515600e+04  25156.000000  25156.000000\n",
      "mean   5.110776e+05      4.515583      5.535737\n",
      "std    3.169618e+07      0.931673      1.693333\n",
      "min    1.000000e+00      1.000000      2.000000\n",
      "25%    2.220425e+04      4.000000      5.000000\n",
      "50%    4.993900e+04      5.000000      5.000000\n",
      "75%    8.000000e+04      5.000000      5.000000\n",
      "max    4.294967e+09     54.000000     47.000000\n",
      "----------------------------------------\n",
      "<class 'pandas.core.frame.DataFrame'>\n",
      "Index: 25157 entries, 0 to 26902\n",
      "Data columns (total 11 columns):\n",
      " #   Column          Non-Null Count  Dtype  \n",
      "---  ------          --------------  -----  \n",
      " 0   car_name        25122 non-null  object \n",
      " 1   year            25156 non-null  object \n",
      " 2   price           25156 non-null  object \n",
      " 3   assemble_place  25156 non-null  object \n",
      " 4   series          25156 non-null  object \n",
      " 5   driven kms      25156 non-null  float64\n",
      " 6   num_of_door     25156 non-null  float64\n",
      " 7   num_of_seat     25156 non-null  float64\n",
      " 8   engine_type     25156 non-null  object \n",
      " 9   transmission    25156 non-null  object \n",
      " 10  url             25156 non-null  object \n",
      "dtypes: float64(3), object(8)\n",
      "memory usage: 2.3+ MB\n",
      "Info data: \n",
      " None\n"
     ]
    }
   ],
   "source": [
    "df.drop_duplicates(subset=['url'], inplace=True)\n",
    "describle_data()"
   ]
  },
  {
   "cell_type": "markdown",
   "id": "bd20bccc-5464-49e8-8c41-6b1eab4c8938",
   "metadata": {},
   "source": [
    "# Chuyển dữ liệu cột year, price sang kiểu số thực để xử lý"
   ]
  },
  {
   "cell_type": "markdown",
   "id": "dda32f0f-5f4a-4ec2-8564-aa3d7682968c",
   "metadata": {},
   "source": [
    "Year:"
   ]
  },
  {
   "cell_type": "code",
   "execution_count": 5,
   "id": "82e359b5-cabf-47a5-b8d2-2b96045ab8fb",
   "metadata": {},
   "outputs": [
    {
     "name": "stdout",
     "output_type": "stream",
     "text": [
      "Shape of data:\n",
      " (25157, 11)\n",
      "----------------------------------------\n",
      "Columns of data: \n",
      " Index(['car_name', 'year', 'price', 'assemble_place', 'series', 'driven kms',\n",
      "       'num_of_door', 'num_of_seat', 'engine_type', 'transmission', 'url'],\n",
      "      dtype='object')\n",
      "----------------------------------------\n",
      "Data types of data: \n",
      " car_name           object\n",
      "year              float64\n",
      "price              object\n",
      "assemble_place     object\n",
      "series             object\n",
      "driven kms        float64\n",
      "num_of_door       float64\n",
      "num_of_seat       float64\n",
      "engine_type        object\n",
      "transmission       object\n",
      "url                object\n",
      "dtype: object\n",
      "----------------------------------------\n",
      "Missing values of data: \n",
      " car_name          35\n",
      "year               0\n",
      "price              1\n",
      "assemble_place     1\n",
      "series             1\n",
      "driven kms         1\n",
      "num_of_door        1\n",
      "num_of_seat        1\n",
      "engine_type        1\n",
      "transmission       1\n",
      "url                1\n",
      "dtype: int64\n",
      "----------------------------------------\n",
      "Describe data: \n",
      "                year    driven kms   num_of_door   num_of_seat\n",
      "count  25157.000000  2.515600e+04  25156.000000  25156.000000\n",
      "mean    1997.561553  5.110776e+05      4.515583      5.535737\n",
      "std      195.475487  3.169618e+07      0.931673      1.693333\n",
      "min       -1.000000  1.000000e+00      1.000000      2.000000\n",
      "25%     2015.000000  2.220425e+04      4.000000      5.000000\n",
      "50%     2018.000000  4.993900e+04      5.000000      5.000000\n",
      "75%     2020.000000  8.000000e+04      5.000000      5.000000\n",
      "max     2023.000000  4.294967e+09     54.000000     47.000000\n",
      "----------------------------------------\n",
      "<class 'pandas.core.frame.DataFrame'>\n",
      "Index: 25157 entries, 0 to 26902\n",
      "Data columns (total 11 columns):\n",
      " #   Column          Non-Null Count  Dtype  \n",
      "---  ------          --------------  -----  \n",
      " 0   car_name        25122 non-null  object \n",
      " 1   year            25157 non-null  float64\n",
      " 2   price           25156 non-null  object \n",
      " 3   assemble_place  25156 non-null  object \n",
      " 4   series          25156 non-null  object \n",
      " 5   driven kms      25156 non-null  float64\n",
      " 6   num_of_door     25156 non-null  float64\n",
      " 7   num_of_seat     25156 non-null  float64\n",
      " 8   engine_type     25156 non-null  object \n",
      " 9   transmission    25156 non-null  object \n",
      " 10  url             25156 non-null  object \n",
      "dtypes: float64(4), object(7)\n",
      "memory usage: 2.3+ MB\n",
      "Info data: \n",
      " None\n",
      "----------------------------------------\n"
     ]
    }
   ],
   "source": [
    "def process_year_colum(year):\n",
    "    if year.isdigit():\n",
    "        return float(year)\n",
    "    else:\n",
    "        return -1\n",
    "df['year'] = df['year'].astype(str).apply(process_year_colum)\n",
    "describle_data()\n",
    "print('--'*20)"
   ]
  },
  {
   "cell_type": "markdown",
   "id": "865edf71-c94b-4381-9b51-74a2da209f2a",
   "metadata": {},
   "source": [
    "Price: chuyển dữ liệu từ dạng triệu/tỷ về dạng số"
   ]
  },
  {
   "cell_type": "code",
   "execution_count": 6,
   "id": "0c63c596-c90d-4023-875c-d04e10fc85dd",
   "metadata": {},
   "outputs": [],
   "source": [
    "def process_price(price):\n",
    "    try:\n",
    "        if price.find('Tỷ') != -1:\n",
    "            ty= price.split('Tỷ')[0]\n",
    "            trieu = price.split('Tỷ')[1]\n",
    "            trieu = trieu.split('Triệu')[0]\n",
    "            return float(ty)*1000000000 + float(trieu)*1000000\n",
    "        elif price.find('Triệu') != -1:\n",
    "            trieu = price.split('Triệu')[0]\n",
    "            trieu = trieu.replace(' ','')\n",
    "            return float(trieu)*1000000\n",
    "        else:\n",
    "            return 0\n",
    "    except:\n",
    "        return 0\n",
    "df['price'] = df['price'].astype(str).apply(process_price)"
   ]
  },
  {
   "cell_type": "markdown",
   "id": "2b47a601-bad7-4eb7-98a8-6917e3684993",
   "metadata": {},
   "source": [
    "Xóa các xe có giá trị km <= 0"
   ]
  },
  {
   "cell_type": "code",
   "execution_count": 7,
   "id": "082ff9f7-57d8-4c55-9899-fb1b349a7873",
   "metadata": {},
   "outputs": [],
   "source": [
    "df = df[df['driven kms'] > 0]"
   ]
  },
  {
   "cell_type": "code",
   "execution_count": 8,
   "id": "e706f981-f497-43d6-b873-67ec812cb680",
   "metadata": {},
   "outputs": [
    {
     "data": {
      "text/plain": [
       "count    2.515600e+04\n",
       "mean     1.064326e+09\n",
       "std      1.664726e+09\n",
       "min      0.000000e+00\n",
       "25%      3.850000e+08\n",
       "50%      5.600000e+08\n",
       "75%      9.450000e+08\n",
       "max      3.860000e+10\n",
       "Name: price, dtype: float64"
      ]
     },
     "execution_count": 8,
     "metadata": {},
     "output_type": "execute_result"
    }
   ],
   "source": [
    "df['price'].describe()"
   ]
  },
  {
   "cell_type": "markdown",
   "id": "1cedc54b-6ccb-45ce-ace5-3aa2b5611245",
   "metadata": {},
   "source": [
    "# Xử lý dữ liệu cột dạng nhãn"
   ]
  },
  {
   "cell_type": "markdown",
   "id": "2598dfd7-9e4b-4709-87f9-1b05cab6e3ea",
   "metadata": {},
   "source": [
    "car_name có hai phần là hãng xe và tên xe, ta sẽ tách ra thành hai cột là brand và model"
   ]
  },
  {
   "cell_type": "code",
   "execution_count": 9,
   "id": "e995c02b-6735-4c7e-9a96-3ef3b4853691",
   "metadata": {},
   "outputs": [],
   "source": [
    "df['brand'] = df['car_name'].str.split().str[0]\n",
    "df['model'] = df['car_name'].str.split().str[1:].str.join(' ')"
   ]
  },
  {
   "cell_type": "code",
   "execution_count": 10,
   "id": "d86a188e-c4f7-41f9-bead-1bf857cd34f5",
   "metadata": {},
   "outputs": [
    {
     "data": {
      "text/plain": [
       "brand\n",
       "Toyota        4798\n",
       "Mercedes      2933\n",
       "Hyundai       2832\n",
       "Kia           2681\n",
       "Ford          2236\n",
       "              ... \n",
       "Howo             1\n",
       "Samsung          1\n",
       "Scion            1\n",
       "SHUGUANG         1\n",
       "Brilliance       1\n",
       "Name: count, Length: 85, dtype: int64"
      ]
     },
     "execution_count": 10,
     "metadata": {},
     "output_type": "execute_result"
    }
   ],
   "source": [
    "df['brand'].value_counts()"
   ]
  },
  {
   "cell_type": "code",
   "execution_count": 11,
   "id": "6747d02b-2708-4b63-9331-d1276f49624a",
   "metadata": {},
   "outputs": [],
   "source": [
    "df['model'] = df['car_name']"
   ]
  },
  {
   "cell_type": "markdown",
   "id": "f8886985-3f0a-4cf1-9623-b69767f13b37",
   "metadata": {},
   "source": [
    "Các hãng xe có số lượng dưới 10 xe sẽ được gộp vào thành model Other"
   ]
  },
  {
   "cell_type": "code",
   "execution_count": 12,
   "id": "9c34a1ac-360f-42cb-a5fa-a3840f2802ab",
   "metadata": {},
   "outputs": [],
   "source": [
    "model_counts = df['model'].value_counts()\n",
    "df['model'] = df['model'].replace(model_counts[model_counts < 5].index, 'Other')"
   ]
  },
  {
   "cell_type": "code",
   "execution_count": 13,
   "id": "bc767a33-a487-44b0-aa23-76d8335b73bc",
   "metadata": {},
   "outputs": [
    {
     "data": {
      "text/plain": [
       "0                LandRover Range Rover HSE 3.0\n",
       "1         Mitsubishi Outlander 2.0 CVT Premium\n",
       "2                          Mazda 3 1.5L Luxury\n",
       "3                               Mazda 2 1.5 AT\n",
       "4                      Suzuki Swift GLX 1.2 AT\n",
       "                         ...                  \n",
       "26898                  Suzuki Swift GLX 1.2 AT\n",
       "26899                 Hyundai i10 Grand 1.2 AT\n",
       "26900                      Toyota Rush 1.5S AT\n",
       "26901                             Lexus GX 460\n",
       "26902              Toyota Fortuner 2.4G 4x2 AT\n",
       "Name: model, Length: 25156, dtype: object"
      ]
     },
     "execution_count": 13,
     "metadata": {},
     "output_type": "execute_result"
    }
   ],
   "source": [
    "df['model']"
   ]
  },
  {
   "cell_type": "code",
   "execution_count": 14,
   "id": "ad3b3b9f-47ad-4eb0-bbb6-836ab4d1085d",
   "metadata": {},
   "outputs": [
    {
     "data": {
      "text/html": [
       "<div>\n",
       "<style scoped>\n",
       "    .dataframe tbody tr th:only-of-type {\n",
       "        vertical-align: middle;\n",
       "    }\n",
       "\n",
       "    .dataframe tbody tr th {\n",
       "        vertical-align: top;\n",
       "    }\n",
       "\n",
       "    .dataframe thead th {\n",
       "        text-align: right;\n",
       "    }\n",
       "</style>\n",
       "<table border=\"1\" class=\"dataframe\">\n",
       "  <thead>\n",
       "    <tr style=\"text-align: right;\">\n",
       "      <th></th>\n",
       "      <th>car_name</th>\n",
       "      <th>year</th>\n",
       "      <th>price</th>\n",
       "      <th>assemble_place</th>\n",
       "      <th>series</th>\n",
       "      <th>driven kms</th>\n",
       "      <th>num_of_door</th>\n",
       "      <th>num_of_seat</th>\n",
       "      <th>engine_type</th>\n",
       "      <th>transmission</th>\n",
       "      <th>url</th>\n",
       "      <th>brand</th>\n",
       "      <th>model</th>\n",
       "    </tr>\n",
       "  </thead>\n",
       "  <tbody>\n",
       "    <tr>\n",
       "      <th>0</th>\n",
       "      <td>LandRover Range Rover HSE 3.0</td>\n",
       "      <td>2015.0</td>\n",
       "      <td>2.700000e+09</td>\n",
       "      <td>Nhập khẩu</td>\n",
       "      <td>SUV</td>\n",
       "      <td>65000.0</td>\n",
       "      <td>5.0</td>\n",
       "      <td>5.0</td>\n",
       "      <td>Xăng</td>\n",
       "      <td>Số tự động</td>\n",
       "      <td>https://bonbanh.com/xe-landrover-range_rover-h...</td>\n",
       "      <td>LandRover</td>\n",
       "      <td>LandRover Range Rover HSE 3.0</td>\n",
       "    </tr>\n",
       "    <tr>\n",
       "      <th>1</th>\n",
       "      <td>Mitsubishi Outlander 2.0 CVT Premium</td>\n",
       "      <td>2018.0</td>\n",
       "      <td>6.660000e+08</td>\n",
       "      <td>Lắp ráp trong nước</td>\n",
       "      <td>SUV</td>\n",
       "      <td>50000.0</td>\n",
       "      <td>5.0</td>\n",
       "      <td>7.0</td>\n",
       "      <td>Xăng</td>\n",
       "      <td>Số tự động</td>\n",
       "      <td>https://bonbanh.com/xe-mitsubishi-outlander-2....</td>\n",
       "      <td>Mitsubishi</td>\n",
       "      <td>Mitsubishi Outlander 2.0 CVT Premium</td>\n",
       "    </tr>\n",
       "    <tr>\n",
       "      <th>2</th>\n",
       "      <td>Mazda 3 1.5L Luxury</td>\n",
       "      <td>2019.0</td>\n",
       "      <td>4.900000e+08</td>\n",
       "      <td>Lắp ráp trong nước</td>\n",
       "      <td>Sedan</td>\n",
       "      <td>51000.0</td>\n",
       "      <td>4.0</td>\n",
       "      <td>5.0</td>\n",
       "      <td>Xăng</td>\n",
       "      <td>Số tự động</td>\n",
       "      <td>https://bonbanh.com/xe-mazda-3-1.5l-luxury-201...</td>\n",
       "      <td>Mazda</td>\n",
       "      <td>Mazda 3 1.5L Luxury</td>\n",
       "    </tr>\n",
       "    <tr>\n",
       "      <th>3</th>\n",
       "      <td>Mazda 2 1.5 AT</td>\n",
       "      <td>2015.0</td>\n",
       "      <td>3.650000e+08</td>\n",
       "      <td>Lắp ráp trong nước</td>\n",
       "      <td>Sedan</td>\n",
       "      <td>38000.0</td>\n",
       "      <td>4.0</td>\n",
       "      <td>5.0</td>\n",
       "      <td>Xăng</td>\n",
       "      <td>Số tự động</td>\n",
       "      <td>https://bonbanh.com/xe-mazda-2-1.5-at-2015-491...</td>\n",
       "      <td>Mazda</td>\n",
       "      <td>Mazda 2 1.5 AT</td>\n",
       "    </tr>\n",
       "    <tr>\n",
       "      <th>4</th>\n",
       "      <td>Suzuki Swift GLX 1.2 AT</td>\n",
       "      <td>2021.0</td>\n",
       "      <td>5.650000e+08</td>\n",
       "      <td>Nhập khẩu</td>\n",
       "      <td>Hatchback</td>\n",
       "      <td>6000.0</td>\n",
       "      <td>5.0</td>\n",
       "      <td>5.0</td>\n",
       "      <td>Xăng</td>\n",
       "      <td>Số tự động</td>\n",
       "      <td>https://bonbanh.com/xe-suzuki-swift-glx-1.2-at...</td>\n",
       "      <td>Suzuki</td>\n",
       "      <td>Suzuki Swift GLX 1.2 AT</td>\n",
       "    </tr>\n",
       "  </tbody>\n",
       "</table>\n",
       "</div>"
      ],
      "text/plain": [
       "                                car_name    year         price  \\\n",
       "0          LandRover Range Rover HSE 3.0  2015.0  2.700000e+09   \n",
       "1   Mitsubishi Outlander 2.0 CVT Premium  2018.0  6.660000e+08   \n",
       "2                    Mazda 3 1.5L Luxury  2019.0  4.900000e+08   \n",
       "3                         Mazda 2 1.5 AT  2015.0  3.650000e+08   \n",
       "4                Suzuki Swift GLX 1.2 AT  2021.0  5.650000e+08   \n",
       "\n",
       "       assemble_place     series  driven kms  num_of_door  num_of_seat  \\\n",
       "0           Nhập khẩu        SUV     65000.0          5.0          5.0   \n",
       "1  Lắp ráp trong nước        SUV     50000.0          5.0          7.0   \n",
       "2  Lắp ráp trong nước      Sedan     51000.0          4.0          5.0   \n",
       "3  Lắp ráp trong nước      Sedan     38000.0          4.0          5.0   \n",
       "4           Nhập khẩu  Hatchback      6000.0          5.0          5.0   \n",
       "\n",
       "  engine_type transmission                                                url  \\\n",
       "0        Xăng   Số tự động  https://bonbanh.com/xe-landrover-range_rover-h...   \n",
       "1        Xăng   Số tự động  https://bonbanh.com/xe-mitsubishi-outlander-2....   \n",
       "2        Xăng   Số tự động  https://bonbanh.com/xe-mazda-3-1.5l-luxury-201...   \n",
       "3        Xăng   Số tự động  https://bonbanh.com/xe-mazda-2-1.5-at-2015-491...   \n",
       "4        Xăng   Số tự động  https://bonbanh.com/xe-suzuki-swift-glx-1.2-at...   \n",
       "\n",
       "        brand                                  model  \n",
       "0   LandRover          LandRover Range Rover HSE 3.0  \n",
       "1  Mitsubishi   Mitsubishi Outlander 2.0 CVT Premium  \n",
       "2       Mazda                    Mazda 3 1.5L Luxury  \n",
       "3       Mazda                         Mazda 2 1.5 AT  \n",
       "4      Suzuki                Suzuki Swift GLX 1.2 AT  "
      ]
     },
     "execution_count": 14,
     "metadata": {},
     "output_type": "execute_result"
    }
   ],
   "source": [
    "df.head()"
   ]
  },
  {
   "cell_type": "markdown",
   "id": "aa423c24-8036-4a18-95f3-87464174fba7",
   "metadata": {},
   "source": [
    "# Xử lý dữ liệu bị thiếu hoặc sai"
   ]
  },
  {
   "cell_type": "markdown",
   "id": "767d3038-52f0-441f-a91b-33bd3e3cc1a3",
   "metadata": {},
   "source": [
    "Year:"
   ]
  },
  {
   "cell_type": "code",
   "execution_count": 15,
   "id": "d310550a-3a36-42c8-b236-37ab544f9c37",
   "metadata": {},
   "outputs": [
    {
     "name": "stdout",
     "output_type": "stream",
     "text": [
      "Năm nhỏ nhất trong tệp là: -1.0\n"
     ]
    }
   ],
   "source": [
    "min_year = df['year'].min()\n",
    "\n",
    "print(\"Năm nhỏ nhất trong tệp là:\", min_year)"
   ]
  },
  {
   "cell_type": "code",
   "execution_count": 16,
   "id": "6f711fcf-bb27-4772-8ba1-56cf92e229a2",
   "metadata": {},
   "outputs": [
    {
     "name": "stdout",
     "output_type": "stream",
     "text": [
      "Number of car before 1990:  238\n",
      "Number of car before 1990:  year\n",
      "-1.0      236\n",
      " 200.0      1\n",
      " 700.0      1\n",
      "Name: count, dtype: int64\n",
      "----------------------------------------\n"
     ]
    }
   ],
   "source": [
    "car_before_1990 = df[df['year'] < 1990]\n",
    "print('Number of car before 1990: ', car_before_1990.shape[0])\n",
    "print('Number of car before 1990: ', car_before_1990['year'].value_counts())\n",
    "print('--'*20)"
   ]
  },
  {
   "cell_type": "markdown",
   "id": "829e3217-09dc-4b6b-9159-027bfed4cc68",
   "metadata": {},
   "source": [
    "Xóa các dòng năm sản xuất không hợp lệ < 1990"
   ]
  },
  {
   "cell_type": "code",
   "execution_count": 17,
   "id": "75a996a3-1167-40b7-ad55-a5dafbf384e4",
   "metadata": {},
   "outputs": [
    {
     "name": "stdout",
     "output_type": "stream",
     "text": [
      "Shape of data:\n",
      " (24893, 13)\n",
      "----------------------------------------\n",
      "Columns of data: \n",
      " Index(['car_name', 'year', 'price', 'assemble_place', 'series', 'driven kms',\n",
      "       'num_of_door', 'num_of_seat', 'engine_type', 'transmission', 'url',\n",
      "       'brand', 'model'],\n",
      "      dtype='object')\n",
      "----------------------------------------\n",
      "Data types of data: \n",
      " car_name           object\n",
      "year              float64\n",
      "price             float64\n",
      "assemble_place     object\n",
      "series             object\n",
      "driven kms        float64\n",
      "num_of_door       float64\n",
      "num_of_seat       float64\n",
      "engine_type        object\n",
      "transmission       object\n",
      "url                object\n",
      "brand              object\n",
      "model              object\n",
      "dtype: object\n",
      "----------------------------------------\n",
      "Missing values of data: \n",
      " car_name          0\n",
      "year              0\n",
      "price             0\n",
      "assemble_place    0\n",
      "series            0\n",
      "driven kms        0\n",
      "num_of_door       0\n",
      "num_of_seat       0\n",
      "engine_type       0\n",
      "transmission      0\n",
      "url               0\n",
      "brand             0\n",
      "model             0\n",
      "dtype: int64\n",
      "----------------------------------------\n",
      "Describe data: \n",
      "                year         price    driven kms   num_of_door   num_of_seat\n",
      "count  24893.000000  2.489300e+04  2.489300e+04  24893.000000  24893.000000\n",
      "mean    2016.721287  1.075413e+09  5.037849e+05      4.513799      5.537139\n",
      "std        4.641435  1.669963e+09  3.180655e+07      0.933953      1.698263\n",
      "min     1991.000000  0.000000e+00  1.000000e+00      1.000000      2.000000\n",
      "25%     2015.000000  3.900000e+08  2.300000e+04      4.000000      5.000000\n",
      "50%     2018.000000  5.650000e+08  5.000000e+04      5.000000      5.000000\n",
      "75%     2020.000000  9.500000e+08  8.000000e+04      5.000000      5.000000\n",
      "max     2023.000000  3.860000e+10  4.294967e+09     54.000000     47.000000\n",
      "----------------------------------------\n",
      "<class 'pandas.core.frame.DataFrame'>\n",
      "Index: 24893 entries, 0 to 26902\n",
      "Data columns (total 13 columns):\n",
      " #   Column          Non-Null Count  Dtype  \n",
      "---  ------          --------------  -----  \n",
      " 0   car_name        24893 non-null  object \n",
      " 1   year            24893 non-null  float64\n",
      " 2   price           24893 non-null  float64\n",
      " 3   assemble_place  24893 non-null  object \n",
      " 4   series          24893 non-null  object \n",
      " 5   driven kms      24893 non-null  float64\n",
      " 6   num_of_door     24893 non-null  float64\n",
      " 7   num_of_seat     24893 non-null  float64\n",
      " 8   engine_type     24893 non-null  object \n",
      " 9   transmission    24893 non-null  object \n",
      " 10  url             24893 non-null  object \n",
      " 11  brand           24893 non-null  object \n",
      " 12  model           24893 non-null  object \n",
      "dtypes: float64(5), object(8)\n",
      "memory usage: 2.7+ MB\n",
      "Info data: \n",
      " None\n",
      "----------------------------------------\n"
     ]
    }
   ],
   "source": [
    "df = df[df['year'] > 1990]\n",
    "describle_data()\n",
    "print('--'*20)"
   ]
  },
  {
   "cell_type": "markdown",
   "id": "503e496a-bcfa-41d2-9580-a6bb2462986a",
   "metadata": {},
   "source": [
    "Cột price: xóa các giá trị <= 0"
   ]
  },
  {
   "cell_type": "code",
   "execution_count": 18,
   "id": "4b533ea6-967a-4295-a94f-27052c13f964",
   "metadata": {},
   "outputs": [
    {
     "name": "stdout",
     "output_type": "stream",
     "text": [
      "Shape of data:\n",
      " (24814, 13)\n",
      "----------------------------------------\n",
      "Columns of data: \n",
      " Index(['car_name', 'year', 'price', 'assemble_place', 'series', 'driven kms',\n",
      "       'num_of_door', 'num_of_seat', 'engine_type', 'transmission', 'url',\n",
      "       'brand', 'model'],\n",
      "      dtype='object')\n",
      "----------------------------------------\n",
      "Data types of data: \n",
      " car_name           object\n",
      "year              float64\n",
      "price             float64\n",
      "assemble_place     object\n",
      "series             object\n",
      "driven kms        float64\n",
      "num_of_door       float64\n",
      "num_of_seat       float64\n",
      "engine_type        object\n",
      "transmission       object\n",
      "url                object\n",
      "brand              object\n",
      "model              object\n",
      "dtype: object\n",
      "----------------------------------------\n",
      "Missing values of data: \n",
      " car_name          0\n",
      "year              0\n",
      "price             0\n",
      "assemble_place    0\n",
      "series            0\n",
      "driven kms        0\n",
      "num_of_door       0\n",
      "num_of_seat       0\n",
      "engine_type       0\n",
      "transmission      0\n",
      "url               0\n",
      "brand             0\n",
      "model             0\n",
      "dtype: int64\n",
      "----------------------------------------\n",
      "Describe data: \n",
      "                year         price    driven kms   num_of_door   num_of_seat\n",
      "count  24814.000000  2.481400e+04  2.481400e+04  24814.000000  24814.000000\n",
      "mean    2016.713629  1.078837e+09  5.052955e+05      4.514024      5.538124\n",
      "std        4.644224  1.671515e+09  3.185713e+07      0.934234      1.699145\n",
      "min     1991.000000  1.500000e+07  1.000000e+00      1.000000      2.000000\n",
      "25%     2015.000000  3.950000e+08  2.300000e+04      4.000000      5.000000\n",
      "50%     2018.000000  5.650000e+08  5.000000e+04      5.000000      5.000000\n",
      "75%     2020.000000  9.500000e+08  8.000000e+04      5.000000      5.000000\n",
      "max     2023.000000  3.860000e+10  4.294967e+09     54.000000     47.000000\n",
      "----------------------------------------\n",
      "<class 'pandas.core.frame.DataFrame'>\n",
      "Index: 24814 entries, 0 to 26902\n",
      "Data columns (total 13 columns):\n",
      " #   Column          Non-Null Count  Dtype  \n",
      "---  ------          --------------  -----  \n",
      " 0   car_name        24814 non-null  object \n",
      " 1   year            24814 non-null  float64\n",
      " 2   price           24814 non-null  float64\n",
      " 3   assemble_place  24814 non-null  object \n",
      " 4   series          24814 non-null  object \n",
      " 5   driven kms      24814 non-null  float64\n",
      " 6   num_of_door     24814 non-null  float64\n",
      " 7   num_of_seat     24814 non-null  float64\n",
      " 8   engine_type     24814 non-null  object \n",
      " 9   transmission    24814 non-null  object \n",
      " 10  url             24814 non-null  object \n",
      " 11  brand           24814 non-null  object \n",
      " 12  model           24814 non-null  object \n",
      "dtypes: float64(5), object(8)\n",
      "memory usage: 2.7+ MB\n",
      "Info data: \n",
      " None\n",
      "----------------------------------------\n"
     ]
    }
   ],
   "source": [
    "df = df[df['price'] > 0]\n",
    "describle_data()\n",
    "print('--'*20)"
   ]
  },
  {
   "cell_type": "markdown",
   "id": "c703c1d8-ea52-4ba6-87f6-95459a47a947",
   "metadata": {},
   "source": [
    "Cột num_of_door thông thường các xe có tối đa 5 - 6 cửa, với những giá trị sai ta sẽ điền bằng giá trị xuất hiện nhiều nhất trong cột num_of_door"
   ]
  },
  {
   "cell_type": "code",
   "execution_count": 19,
   "id": "3aa88da1-b279-48d3-ab68-06d215bf9c4c",
   "metadata": {},
   "outputs": [],
   "source": [
    "df['num_of_door'] = df['num_of_door'].apply(lambda x: df['num_of_door'].value_counts().index[0] if x > 10 else x)"
   ]
  },
  {
   "cell_type": "markdown",
   "id": "0ec84e9a-3dc9-4c2b-996c-2453117ff5c4",
   "metadata": {},
   "source": [
    "Cột brand"
   ]
  },
  {
   "cell_type": "code",
   "execution_count": 20,
   "id": "1bbc4899-d86c-4ee7-8a7f-4f22edf71e06",
   "metadata": {},
   "outputs": [
    {
     "data": {
      "text/plain": [
       "brand\n",
       "Toyota        4775\n",
       "Mercedes      2906\n",
       "Hyundai       2827\n",
       "Kia           2640\n",
       "Ford          2230\n",
       "              ... \n",
       "Howo             1\n",
       "Samsung          1\n",
       "Aston            1\n",
       "Scion            1\n",
       "Brilliance       1\n",
       "Name: count, Length: 83, dtype: int64"
      ]
     },
     "execution_count": 20,
     "metadata": {},
     "output_type": "execute_result"
    }
   ],
   "source": [
    "df['brand'].value_counts()"
   ]
  },
  {
   "cell_type": "code",
   "execution_count": 21,
   "id": "49005dc0-9637-45f9-8710-8d2ad9501306",
   "metadata": {},
   "outputs": [],
   "source": [
    "threshold = 5\n",
    "car_count = df['brand'].value_counts()\n",
    "small_brands = car_count[car_count < threshold].index.tolist()\n",
    "df['brand'] = df['brand'].apply(lambda x: 'Other' if x in small_brands else x)\n",
    "df['brand'] = df['brand'].fillna('Other')"
   ]
  },
  {
   "cell_type": "code",
   "execution_count": 22,
   "id": "22547b13-cb3f-4346-aa91-062647c316cc",
   "metadata": {},
   "outputs": [
    {
     "name": "stdout",
     "output_type": "stream",
     "text": [
      "brand\n",
      "Lamborghini    1.454000e+10\n",
      "Rolls          1.378962e+10\n",
      "Bentley        1.066070e+10\n",
      "McLaren        9.620000e+09\n",
      "Lincoln        6.090806e+09\n",
      "LandRover      4.203340e+09\n",
      "Porsche        4.017987e+09\n",
      "Maserati       3.554455e+09\n",
      "Lexus          3.278581e+09\n",
      "Jeep           2.971826e+09\n",
      "Cadillac       2.515273e+09\n",
      "Volvo          2.218634e+09\n",
      "Mercedes       2.004621e+09\n",
      "Jaguar         1.798727e+09\n",
      "Infiniti       1.742200e+09\n",
      "Mini           1.427632e+09\n",
      "BMW            1.415890e+09\n",
      "Audi           1.258419e+09\n",
      "Other          1.091310e+09\n",
      "Subaru         9.207143e+08\n",
      "Volkswagen     8.474800e+08\n",
      "Peugeot        8.188621e+08\n",
      "Toyota         7.597510e+08\n",
      "Ford           6.421570e+08\n",
      "VinFast        5.650631e+08\n",
      "Mazda          5.529249e+08\n",
      "Hyundai        5.382045e+08\n",
      "Honda          5.294520e+08\n",
      "Baic           5.210000e+08\n",
      "MG             5.098780e+08\n",
      "Mitsubishi     5.069020e+08\n",
      "Kia            4.845394e+08\n",
      "Nissan         4.504627e+08\n",
      "Isuzu          4.026667e+08\n",
      "Suzuki         3.871135e+08\n",
      "Chevrolet      3.729601e+08\n",
      "Renault        3.595000e+08\n",
      "Ssangyong      2.971429e+08\n",
      "Thaco          2.816667e+08\n",
      "Kenbo          1.560000e+08\n",
      "Dongben        1.425000e+08\n",
      "Daihatsu       1.357692e+08\n",
      "Daewoo         1.314697e+08\n",
      "Fiat           1.260000e+08\n",
      "Name: price, dtype: float64\n"
     ]
    }
   ],
   "source": [
    "# in ra tất cả brand\n",
    "# sắp xếp theo thứ tự giảm dần về giá trung bình\n",
    "print(df.groupby('brand')['price'].mean().sort_values(ascending=False))"
   ]
  },
  {
   "cell_type": "code",
   "execution_count": 23,
   "id": "ab940916-7605-443c-a9cd-1a0c1df3c0ca",
   "metadata": {},
   "outputs": [],
   "source": [
    "def car_band(x):\n",
    "    if x in ['Rolls', 'Bentley', 'Ferrari','Lincoln','Porsche','LandRover','Lexus','Jeep','Lamborghini','McLaren','Maserati',]:\n",
    "        return 'LUXURY CAR'\n",
    "    elif x in ['Cadillac', 'Mercedes', 'Audi', 'BMW', 'Volvo','Jaguar','Infiniti','Mini','BMW']:\n",
    "        return 'PREMIUM CAR'\n",
    "    elif x in ['Subaru', 'Mitsubishi', 'Ford', 'Kia','VinFast','Mazda','Honda','Hyundai','Kia','Baic','Toyota','Mazda','Renault','Other','Volkswagen','Peugeot',]:\n",
    "        return 'VOLUME CAR'\n",
    "    else:\n",
    "        return 'LOW-PRICE CAR'"
   ]
  },
  {
   "cell_type": "code",
   "execution_count": 24,
   "id": "b22d6578-9797-4617-920a-c1c98bb20dc5",
   "metadata": {},
   "outputs": [
    {
     "name": "stdout",
     "output_type": "stream",
     "text": [
      "----------------------------------------\n"
     ]
    }
   ],
   "source": [
    "df['model'].value_counts()\n",
    "print('--'*20)"
   ]
  },
  {
   "cell_type": "markdown",
   "id": "5bfe442a-84e4-4a41-a07a-fae06c930a99",
   "metadata": {},
   "source": [
    "lọc dữ liệu nhiên liệu"
   ]
  },
  {
   "cell_type": "code",
   "execution_count": 25,
   "id": "f60718b4-9568-4aed-86df-e04c22bbc3e3",
   "metadata": {},
   "outputs": [],
   "source": [
    "df = df[df['engine_type'] != '-']"
   ]
  },
  {
   "cell_type": "code",
   "execution_count": 26,
   "id": "9fc6bf8d-e23f-4d14-a149-6a0da6554697",
   "metadata": {},
   "outputs": [
    {
     "data": {
      "text/plain": [
       "engine_type\n",
       "Xăng      20988\n",
       "Dầu        3640\n",
       "Hybrid      127\n",
       "Điện         55\n",
       "Name: count, dtype: int64"
      ]
     },
     "execution_count": 26,
     "metadata": {},
     "output_type": "execute_result"
    }
   ],
   "source": [
    "df['engine_type'].value_counts()"
   ]
  },
  {
   "cell_type": "code",
   "execution_count": 27,
   "id": "4779b96a-1270-4861-9220-2cef67297406",
   "metadata": {},
   "outputs": [],
   "source": [
    "df=df[df['transmission']!='-']"
   ]
  },
  {
   "cell_type": "code",
   "execution_count": 28,
   "id": "d716a78e-3967-44d7-87cd-fe22dcc09637",
   "metadata": {},
   "outputs": [
    {
     "data": {
      "text/html": [
       "<div>\n",
       "<style scoped>\n",
       "    .dataframe tbody tr th:only-of-type {\n",
       "        vertical-align: middle;\n",
       "    }\n",
       "\n",
       "    .dataframe tbody tr th {\n",
       "        vertical-align: top;\n",
       "    }\n",
       "\n",
       "    .dataframe thead th {\n",
       "        text-align: right;\n",
       "    }\n",
       "</style>\n",
       "<table border=\"1\" class=\"dataframe\">\n",
       "  <thead>\n",
       "    <tr style=\"text-align: right;\">\n",
       "      <th></th>\n",
       "      <th>car_name</th>\n",
       "      <th>year</th>\n",
       "      <th>price</th>\n",
       "      <th>assemble_place</th>\n",
       "      <th>series</th>\n",
       "      <th>driven kms</th>\n",
       "      <th>num_of_door</th>\n",
       "      <th>num_of_seat</th>\n",
       "      <th>engine_type</th>\n",
       "      <th>transmission</th>\n",
       "      <th>url</th>\n",
       "      <th>brand</th>\n",
       "      <th>model</th>\n",
       "    </tr>\n",
       "  </thead>\n",
       "  <tbody>\n",
       "    <tr>\n",
       "      <th>0</th>\n",
       "      <td>LandRover Range Rover HSE 3.0</td>\n",
       "      <td>2015.0</td>\n",
       "      <td>2.700000e+09</td>\n",
       "      <td>Nhập khẩu</td>\n",
       "      <td>SUV</td>\n",
       "      <td>65000.0</td>\n",
       "      <td>5.0</td>\n",
       "      <td>5.0</td>\n",
       "      <td>Xăng</td>\n",
       "      <td>Số tự động</td>\n",
       "      <td>https://bonbanh.com/xe-landrover-range_rover-h...</td>\n",
       "      <td>LandRover</td>\n",
       "      <td>LandRover Range Rover HSE 3.0</td>\n",
       "    </tr>\n",
       "    <tr>\n",
       "      <th>1</th>\n",
       "      <td>Mitsubishi Outlander 2.0 CVT Premium</td>\n",
       "      <td>2018.0</td>\n",
       "      <td>6.660000e+08</td>\n",
       "      <td>Lắp ráp trong nước</td>\n",
       "      <td>SUV</td>\n",
       "      <td>50000.0</td>\n",
       "      <td>5.0</td>\n",
       "      <td>7.0</td>\n",
       "      <td>Xăng</td>\n",
       "      <td>Số tự động</td>\n",
       "      <td>https://bonbanh.com/xe-mitsubishi-outlander-2....</td>\n",
       "      <td>Mitsubishi</td>\n",
       "      <td>Mitsubishi Outlander 2.0 CVT Premium</td>\n",
       "    </tr>\n",
       "    <tr>\n",
       "      <th>2</th>\n",
       "      <td>Mazda 3 1.5L Luxury</td>\n",
       "      <td>2019.0</td>\n",
       "      <td>4.900000e+08</td>\n",
       "      <td>Lắp ráp trong nước</td>\n",
       "      <td>Sedan</td>\n",
       "      <td>51000.0</td>\n",
       "      <td>4.0</td>\n",
       "      <td>5.0</td>\n",
       "      <td>Xăng</td>\n",
       "      <td>Số tự động</td>\n",
       "      <td>https://bonbanh.com/xe-mazda-3-1.5l-luxury-201...</td>\n",
       "      <td>Mazda</td>\n",
       "      <td>Mazda 3 1.5L Luxury</td>\n",
       "    </tr>\n",
       "    <tr>\n",
       "      <th>3</th>\n",
       "      <td>Mazda 2 1.5 AT</td>\n",
       "      <td>2015.0</td>\n",
       "      <td>3.650000e+08</td>\n",
       "      <td>Lắp ráp trong nước</td>\n",
       "      <td>Sedan</td>\n",
       "      <td>38000.0</td>\n",
       "      <td>4.0</td>\n",
       "      <td>5.0</td>\n",
       "      <td>Xăng</td>\n",
       "      <td>Số tự động</td>\n",
       "      <td>https://bonbanh.com/xe-mazda-2-1.5-at-2015-491...</td>\n",
       "      <td>Mazda</td>\n",
       "      <td>Mazda 2 1.5 AT</td>\n",
       "    </tr>\n",
       "    <tr>\n",
       "      <th>4</th>\n",
       "      <td>Suzuki Swift GLX 1.2 AT</td>\n",
       "      <td>2021.0</td>\n",
       "      <td>5.650000e+08</td>\n",
       "      <td>Nhập khẩu</td>\n",
       "      <td>Hatchback</td>\n",
       "      <td>6000.0</td>\n",
       "      <td>5.0</td>\n",
       "      <td>5.0</td>\n",
       "      <td>Xăng</td>\n",
       "      <td>Số tự động</td>\n",
       "      <td>https://bonbanh.com/xe-suzuki-swift-glx-1.2-at...</td>\n",
       "      <td>Suzuki</td>\n",
       "      <td>Suzuki Swift GLX 1.2 AT</td>\n",
       "    </tr>\n",
       "  </tbody>\n",
       "</table>\n",
       "</div>"
      ],
      "text/plain": [
       "                                car_name    year         price  \\\n",
       "0          LandRover Range Rover HSE 3.0  2015.0  2.700000e+09   \n",
       "1   Mitsubishi Outlander 2.0 CVT Premium  2018.0  6.660000e+08   \n",
       "2                    Mazda 3 1.5L Luxury  2019.0  4.900000e+08   \n",
       "3                         Mazda 2 1.5 AT  2015.0  3.650000e+08   \n",
       "4                Suzuki Swift GLX 1.2 AT  2021.0  5.650000e+08   \n",
       "\n",
       "       assemble_place     series  driven kms  num_of_door  num_of_seat  \\\n",
       "0           Nhập khẩu        SUV     65000.0          5.0          5.0   \n",
       "1  Lắp ráp trong nước        SUV     50000.0          5.0          7.0   \n",
       "2  Lắp ráp trong nước      Sedan     51000.0          4.0          5.0   \n",
       "3  Lắp ráp trong nước      Sedan     38000.0          4.0          5.0   \n",
       "4           Nhập khẩu  Hatchback      6000.0          5.0          5.0   \n",
       "\n",
       "  engine_type transmission                                                url  \\\n",
       "0        Xăng   Số tự động  https://bonbanh.com/xe-landrover-range_rover-h...   \n",
       "1        Xăng   Số tự động  https://bonbanh.com/xe-mitsubishi-outlander-2....   \n",
       "2        Xăng   Số tự động  https://bonbanh.com/xe-mazda-3-1.5l-luxury-201...   \n",
       "3        Xăng   Số tự động  https://bonbanh.com/xe-mazda-2-1.5-at-2015-491...   \n",
       "4        Xăng   Số tự động  https://bonbanh.com/xe-suzuki-swift-glx-1.2-at...   \n",
       "\n",
       "        brand                                  model  \n",
       "0   LandRover          LandRover Range Rover HSE 3.0  \n",
       "1  Mitsubishi   Mitsubishi Outlander 2.0 CVT Premium  \n",
       "2       Mazda                    Mazda 3 1.5L Luxury  \n",
       "3       Mazda                         Mazda 2 1.5 AT  \n",
       "4      Suzuki                Suzuki Swift GLX 1.2 AT  "
      ]
     },
     "execution_count": 28,
     "metadata": {},
     "output_type": "execute_result"
    }
   ],
   "source": [
    "df.head()"
   ]
  },
  {
   "cell_type": "markdown",
   "id": "c8b8548f-d3e4-4c28-a365-36c37516c10e",
   "metadata": {},
   "source": [
    "# Trực quan hóa dữ liệu"
   ]
  },
  {
   "cell_type": "code",
   "execution_count": 29,
   "id": "6cb9f248-33c7-420b-bb01-c205ebca079f",
   "metadata": {},
   "outputs": [
    {
     "data": {
      "text/plain": [
       "transmission\n",
       "Số tự động    21039\n",
       "Số tay         3770\n",
       "Name: count, dtype: int64"
      ]
     },
     "execution_count": 29,
     "metadata": {},
     "output_type": "execute_result"
    }
   ],
   "source": [
    "df['transmission'].value_counts()"
   ]
  },
  {
   "cell_type": "markdown",
   "id": "161de69e-99a9-479f-a0a1-0e1e5eaae4b5",
   "metadata": {},
   "source": [
    "Tìm hiểu về mối liên hệ giữa giá xe và các thuộc tính khác"
   ]
  },
  {
   "cell_type": "code",
   "execution_count": 30,
   "id": "3dd5977c-ce48-49cd-a297-d3ce5d2d0ad1",
   "metadata": {},
   "outputs": [
    {
     "data": {
      "image/png": "[encoded data removed]",
      "text/plain": [
       "<Figure size 1000x500 with 1 Axes>"
      ]
     },
     "metadata": {},
     "output_type": "display_data"
    }
   ],
   "source": [
    "plt.figure(figsize=(10, 5))\n",
    "sns.barplot(x='price', y='series', hue='series', data=df, palette='pastel', legend=False)\n",
    "plt.title('Price by series')\n",
    "plt.xticks(rotation=90)\n",
    "plt.show()"
   ]
  },
  {
   "cell_type": "code",
   "execution_count": 31,
   "id": "6f2f4df1-59aa-4b26-8017-d7481204ff36",
   "metadata": {},
   "outputs": [
    {
     "data": {
      "image/png": "[encoded data removed]",
      "text/plain": [
       "<Figure size 2000x1000 with 1 Axes>"
      ]
     },
     "metadata": {},
     "output_type": "display_data"
    }
   ],
   "source": [
    "plt.figure(figsize=(20, 10))\n",
    "#đổi năm sản xuất thành tuổi xe\n",
    "df['year'] = 2023 - df['year']\n",
    "sns.barplot(x='year', y='price', hue='year', data=df, palette='pastel', legend=False)\n",
    "plt.title('Price by year')\n",
    "plt.yticks(rotation=90)\n",
    "plt.show()"
   ]
  },
  {
   "cell_type": "code",
   "execution_count": 32,
   "id": "e23cb112-0865-4e50-b6a2-0fd3a624f550",
   "metadata": {},
   "outputs": [
    {
     "data": {
      "image/png": "[encoded data removed]",
      "text/plain": [
       "<Figure size 2000x1000 with 1 Axes>"
      ]
     },
     "metadata": {},
     "output_type": "display_data"
    }
   ],
   "source": [
    "plt.figure(figsize=(20, 10))\n",
    "sns.barplot(x='engine_type', y='price', hue='engine_type', data=df, palette='pastel', legend=False)\n",
    "plt.title('Price by engine_type')\n",
    "plt.yticks(rotation=90)\n",
    "plt.show()"
   ]
  },
  {
   "cell_type": "code",
   "execution_count": 33,
   "id": "cf1d83b8-3f09-4fb9-b0f7-4f30070dc5c2",
   "metadata": {},
   "outputs": [
    {
     "data": {
      "image/png": "[encoded data removed]",
      "text/plain": [
       "<Figure size 2000x1000 with 2 Axes>"
      ]
     },
     "metadata": {},
     "output_type": "display_data"
    }
   ],
   "source": [
    "plt.figure(figsize=(20, 10))\n",
    "plt.subplot(1, 2, 1)\n",
    "sns.barplot(x='transmission', y='price', hue='transmission', data=df, palette='pastel', legend=False)\n",
    "plt.title('Price by transmission')\n",
    "plt.yticks(rotation=90)\n",
    "plt.subplot(1, 2, 2)\n",
    "sns.barplot(x='assemble_place', y='price', hue='assemble_place', data=df, palette='pastel', legend=False)\n",
    "plt.title('Price by assemble_place')\n",
    "plt.show()"
   ]
  },
  {
   "cell_type": "code",
   "execution_count": 34,
   "id": "02f976c5-22b2-4207-ae67-a3e420f2a887",
   "metadata": {
    "editable": true,
    "slideshow": {
     "slide_type": ""
    },
    "tags": []
   },
   "outputs": [
    {
     "data": {
      "image/png": "[encoded data removed]",
      "text/plain": [
       "<Figure size 2000x1000 with 2 Axes>"
      ]
     },
     "metadata": {},
     "output_type": "display_data"
    }
   ],
   "source": [
    "plt.figure(figsize=(20, 10))\n",
    "plt.subplot(1, 2, 1)\n",
    "sns.barplot(x='num_of_door', y='price', hue='num_of_door', data=df, palette='pastel', legend=False)\n",
    "plt.title('Price by num_of_door')\n",
    "plt.subplot(1, 2, 2)\n",
    "sns.barplot(x='num_of_seat', y='price', hue='num_of_seat', data=df, palette='pastel', legend=False)\n",
    "plt.title('Price by num_of_seat')\n",
    "plt.show()"
   ]
  },
  {
   "cell_type": "markdown",
   "id": "5d0f1f64-54d8-44a3-924f-fb1d7b84500c",
   "metadata": {},
   "source": [
    "# Tìm hiểu về mối liên hệ giữa các thuộc tính với nhau"
   ]
  },
  {
   "cell_type": "code",
   "execution_count": 35,
   "id": "a2af421a-162c-4fca-8774-d019522a80fc",
   "metadata": {},
   "outputs": [
    {
     "data": {
      "text/html": [
       "<div>\n",
       "<style scoped>\n",
       "    .dataframe tbody tr th:only-of-type {\n",
       "        vertical-align: middle;\n",
       "    }\n",
       "\n",
       "    .dataframe tbody tr th {\n",
       "        vertical-align: top;\n",
       "    }\n",
       "\n",
       "    .dataframe thead th {\n",
       "        text-align: right;\n",
       "    }\n",
       "</style>\n",
       "<table border=\"1\" class=\"dataframe\">\n",
       "  <thead>\n",
       "    <tr style=\"text-align: right;\">\n",
       "      <th></th>\n",
       "      <th>car_name</th>\n",
       "      <th>year</th>\n",
       "      <th>price</th>\n",
       "      <th>assemble_place</th>\n",
       "      <th>series</th>\n",
       "      <th>driven kms</th>\n",
       "      <th>num_of_door</th>\n",
       "      <th>num_of_seat</th>\n",
       "      <th>engine_type</th>\n",
       "      <th>transmission</th>\n",
       "      <th>url</th>\n",
       "      <th>brand</th>\n",
       "      <th>model</th>\n",
       "    </tr>\n",
       "  </thead>\n",
       "  <tbody>\n",
       "    <tr>\n",
       "      <th>0</th>\n",
       "      <td>LandRover Range Rover HSE 3.0</td>\n",
       "      <td>8.0</td>\n",
       "      <td>2.700000e+09</td>\n",
       "      <td>Nhập khẩu</td>\n",
       "      <td>SUV</td>\n",
       "      <td>65000.0</td>\n",
       "      <td>5.0</td>\n",
       "      <td>5.0</td>\n",
       "      <td>Xăng</td>\n",
       "      <td>Số tự động</td>\n",
       "      <td>https://bonbanh.com/xe-landrover-range_rover-h...</td>\n",
       "      <td>LandRover</td>\n",
       "      <td>LandRover Range Rover HSE 3.0</td>\n",
       "    </tr>\n",
       "    <tr>\n",
       "      <th>1</th>\n",
       "      <td>Mitsubishi Outlander 2.0 CVT Premium</td>\n",
       "      <td>5.0</td>\n",
       "      <td>6.660000e+08</td>\n",
       "      <td>Lắp ráp trong nước</td>\n",
       "      <td>SUV</td>\n",
       "      <td>50000.0</td>\n",
       "      <td>5.0</td>\n",
       "      <td>7.0</td>\n",
       "      <td>Xăng</td>\n",
       "      <td>Số tự động</td>\n",
       "      <td>https://bonbanh.com/xe-mitsubishi-outlander-2....</td>\n",
       "      <td>Mitsubishi</td>\n",
       "      <td>Mitsubishi Outlander 2.0 CVT Premium</td>\n",
       "    </tr>\n",
       "    <tr>\n",
       "      <th>2</th>\n",
       "      <td>Mazda 3 1.5L Luxury</td>\n",
       "      <td>4.0</td>\n",
       "      <td>4.900000e+08</td>\n",
       "      <td>Lắp ráp trong nước</td>\n",
       "      <td>Sedan</td>\n",
       "      <td>51000.0</td>\n",
       "      <td>4.0</td>\n",
       "      <td>5.0</td>\n",
       "      <td>Xăng</td>\n",
       "      <td>Số tự động</td>\n",
       "      <td>https://bonbanh.com/xe-mazda-3-1.5l-luxury-201...</td>\n",
       "      <td>Mazda</td>\n",
       "      <td>Mazda 3 1.5L Luxury</td>\n",
       "    </tr>\n",
       "    <tr>\n",
       "      <th>3</th>\n",
       "      <td>Mazda 2 1.5 AT</td>\n",
       "      <td>8.0</td>\n",
       "      <td>3.650000e+08</td>\n",
       "      <td>Lắp ráp trong nước</td>\n",
       "      <td>Sedan</td>\n",
       "      <td>38000.0</td>\n",
       "      <td>4.0</td>\n",
       "      <td>5.0</td>\n",
       "      <td>Xăng</td>\n",
       "      <td>Số tự động</td>\n",
       "      <td>https://bonbanh.com/xe-mazda-2-1.5-at-2015-491...</td>\n",
       "      <td>Mazda</td>\n",
       "      <td>Mazda 2 1.5 AT</td>\n",
       "    </tr>\n",
       "    <tr>\n",
       "      <th>4</th>\n",
       "      <td>Suzuki Swift GLX 1.2 AT</td>\n",
       "      <td>2.0</td>\n",
       "      <td>5.650000e+08</td>\n",
       "      <td>Nhập khẩu</td>\n",
       "      <td>Hatchback</td>\n",
       "      <td>6000.0</td>\n",
       "      <td>5.0</td>\n",
       "      <td>5.0</td>\n",
       "      <td>Xăng</td>\n",
       "      <td>Số tự động</td>\n",
       "      <td>https://bonbanh.com/xe-suzuki-swift-glx-1.2-at...</td>\n",
       "      <td>Suzuki</td>\n",
       "      <td>Suzuki Swift GLX 1.2 AT</td>\n",
       "    </tr>\n",
       "  </tbody>\n",
       "</table>\n",
       "</div>"
      ],
      "text/plain": [
       "                                car_name  year         price  \\\n",
       "0          LandRover Range Rover HSE 3.0   8.0  2.700000e+09   \n",
       "1   Mitsubishi Outlander 2.0 CVT Premium   5.0  6.660000e+08   \n",
       "2                    Mazda 3 1.5L Luxury   4.0  4.900000e+08   \n",
       "3                         Mazda 2 1.5 AT   8.0  3.650000e+08   \n",
       "4                Suzuki Swift GLX 1.2 AT   2.0  5.650000e+08   \n",
       "\n",
       "       assemble_place     series  driven kms  num_of_door  num_of_seat  \\\n",
       "0           Nhập khẩu        SUV     65000.0          5.0          5.0   \n",
       "1  Lắp ráp trong nước        SUV     50000.0          5.0          7.0   \n",
       "2  Lắp ráp trong nước      Sedan     51000.0          4.0          5.0   \n",
       "3  Lắp ráp trong nước      Sedan     38000.0          4.0          5.0   \n",
       "4           Nhập khẩu  Hatchback      6000.0          5.0          5.0   \n",
       "\n",
       "  engine_type transmission                                                url  \\\n",
       "0        Xăng   Số tự động  https://bonbanh.com/xe-landrover-range_rover-h...   \n",
       "1        Xăng   Số tự động  https://bonbanh.com/xe-mitsubishi-outlander-2....   \n",
       "2        Xăng   Số tự động  https://bonbanh.com/xe-mazda-3-1.5l-luxury-201...   \n",
       "3        Xăng   Số tự động  https://bonbanh.com/xe-mazda-2-1.5-at-2015-491...   \n",
       "4        Xăng   Số tự động  https://bonbanh.com/xe-suzuki-swift-glx-1.2-at...   \n",
       "\n",
       "        brand                                  model  \n",
       "0   LandRover          LandRover Range Rover HSE 3.0  \n",
       "1  Mitsubishi   Mitsubishi Outlander 2.0 CVT Premium  \n",
       "2       Mazda                    Mazda 3 1.5L Luxury  \n",
       "3       Mazda                         Mazda 2 1.5 AT  \n",
       "4      Suzuki                Suzuki Swift GLX 1.2 AT  "
      ]
     },
     "execution_count": 35,
     "metadata": {},
     "output_type": "execute_result"
    }
   ],
   "source": [
    "df.head()"
   ]
  },
  {
   "cell_type": "code",
   "execution_count": 36,
   "id": "5aef9d40-6fd2-49a1-ad48-ae7e03999541",
   "metadata": {},
   "outputs": [
    {
     "data": {
      "text/plain": [
       "assemble_place\n",
       "0    14549\n",
       "1    10260\n",
       "Name: count, dtype: int64"
      ]
     },
     "execution_count": 36,
     "metadata": {},
     "output_type": "execute_result"
    }
   ],
   "source": [
    "df['assemble_place'] = df['assemble_place'].map({'Lắp ráp trong nước': 0, 'Nhập khẩu': 1})\n",
    "df['assemble_place'].value_counts()"
   ]
  },
  {
   "cell_type": "code",
   "execution_count": 37,
   "id": "9eef35be-d40c-4e13-9cc7-865562784e64",
   "metadata": {},
   "outputs": [
    {
     "data": {
      "text/plain": [
       "transmission\n",
       "1    21039\n",
       "0     3770\n",
       "Name: count, dtype: int64"
      ]
     },
     "execution_count": 37,
     "metadata": {},
     "output_type": "execute_result"
    }
   ],
   "source": [
    "df['transmission'] = df['transmission'].map({'Số tay': 0, 'Số tự động': 1})\n",
    "df['transmission'].value_counts()"
   ]
  },
  {
   "cell_type": "code",
   "execution_count": 38,
   "id": "fa1cc736-3aaa-46bf-b69c-8b2f446b0ec6",
   "metadata": {},
   "outputs": [
    {
     "data": {
      "image/png": "[encoded data removed]",
      "text/plain": [
       "<Figure size 2000x1000 with 2 Axes>"
      ]
     },
     "metadata": {},
     "output_type": "display_data"
    }
   ],
   "source": [
    "#vẽ biểu đồ nhiệt giữa price và các thuộc tính trừ model\n",
    "plt.figure(figsize=(20, 10))\n",
    "numeric_cols = df.select_dtypes(include=['float64', 'int64','int32'])\n",
    "sns.heatmap(numeric_cols.corr(), annot=True)\n",
    "plt.show()"
   ]
  },
  {
   "cell_type": "code",
   "execution_count": 39,
   "id": "2ddbea4e-1615-4daa-9437-d548d5aa00b0",
   "metadata": {},
   "outputs": [],
   "source": [
    "df.to_csv('C:/Users/BXT/Desktop/New folder2/data/data_clean.csv', index=False)"
   ]
  },
  {
   "cell_type": "markdown",
   "id": "57911589-d5a6-4470-844d-ae4f129f3975",
   "metadata": {},
   "source": [
    "# Mã hóa các cột dạng nhãn thành dạng số để có thể sử dụng cho mô hình học máy"
   ]
  },
  {
   "cell_type": "markdown",
   "id": "dc620cbf-086c-4bae-8e06-ccd3fff1f5aa",
   "metadata": {},
   "source": [
    "Cột assemble_place chỉ có 2 giá trị là 'Lắp ráp trong nước' và 'Nhập khẩu', ta sẽ mã hóa thành 0 và 1"
   ]
  },
  {
   "cell_type": "markdown",
   "id": "028dd58d-d0a1-44c9-8ed4-e31f76f846de",
   "metadata": {},
   "source": [
    "Sử dụng OneHotEncoder để mã hóa các cột dạng nhãn còn lại"
   ]
  },
  {
   "cell_type": "code",
   "execution_count": 40,
   "id": "f93f5189-d2e5-4525-b793-d067ccbc259b",
   "metadata": {},
   "outputs": [
    {
     "data": {
      "text/html": [
       "<style>#sk-container-id-1 {\n",
       "  /* Definition of color scheme common for light and dark mode */\n",
       "  --sklearn-color-text: black;\n",
       "  --sklearn-color-line: gray;\n",
       "  /* Definition of color scheme for unfitted estimators */\n",
       "  --sklearn-color-unfitted-level-0: #fff5e6;\n",
       "  --sklearn-color-unfitted-level-1: #f6e4d2;\n",
       "  --sklearn-color-unfitted-level-2: #ffe0b3;\n",
       "  --sklearn-color-unfitted-level-3: chocolate;\n",
       "  /* Definition of color scheme for fitted estimators */\n",
       "  --sklearn-color-fitted-level-0: #f0f8ff;\n",
       "  --sklearn-color-fitted-level-1: #d4ebff;\n",
       "  --sklearn-color-fitted-level-2: #b3dbfd;\n",
       "  --sklearn-color-fitted-level-3: cornflowerblue;\n",
       "\n",
       "  /* Specific color for light theme */\n",
       "  --sklearn-color-text-on-default-background: var(--sg-text-color, var(--theme-code-foreground, var(--jp-content-font-color1, black)));\n",
       "  --sklearn-color-background: var(--sg-background-color, var(--theme-background, var(--jp-layout-color0, white)));\n",
       "  --sklearn-color-border-box: var(--sg-text-color, var(--theme-code-foreground, var(--jp-content-font-color1, black)));\n",
       "  --sklearn-color-icon: #696969;\n",
       "\n",
       "  @media (prefers-color-scheme: dark) {\n",
       "    /* Redefinition of color scheme for dark theme */\n",
       "    --sklearn-color-text-on-default-background: var(--sg-text-color, var(--theme-code-foreground, var(--jp-content-font-color1, white)));\n",
       "    --sklearn-color-background: var(--sg-background-color, var(--theme-background, var(--jp-layout-color0, #111)));\n",
       "    --sklearn-color-border-box: var(--sg-text-color, var(--theme-code-foreground, var(--jp-content-font-color1, white)));\n",
       "    --sklearn-color-icon: #878787;\n",
       "  }\n",
       "}\n",
       "\n",
       "#sk-container-id-1 {\n",
       "  color: var(--sklearn-color-text);\n",
       "}\n",
       "\n",
       "#sk-container-id-1 pre {\n",
       "  padding: 0;\n",
       "}\n",
       "\n",
       "#sk-container-id-1 input.sk-hidden--visually {\n",
       "  border: 0;\n",
       "  clip: rect(1px 1px 1px 1px);\n",
       "  clip: rect(1px, 1px, 1px, 1px);\n",
       "  height: 1px;\n",
       "  margin: -1px;\n",
       "  overflow: hidden;\n",
       "  padding: 0;\n",
       "  position: absolute;\n",
       "  width: 1px;\n",
       "}\n",
       "\n",
       "#sk-container-id-1 div.sk-dashed-wrapped {\n",
       "  border: 1px dashed var(--sklearn-color-line);\n",
       "  margin: 0 0.4em 0.5em 0.4em;\n",
       "  box-sizing: border-box;\n",
       "  padding-bottom: 0.4em;\n",
       "  background-color: var(--sklearn-color-background);\n",
       "}\n",
       "\n",
       "#sk-container-id-1 div.sk-container {\n",
       "  /* jupyter's `normalize.less` sets `[hidden] { display: none; }`\n",
       "     but bootstrap.min.css set `[hidden] { display: none !important; }`\n",
       "     so we also need the `!important` here to be able to override the\n",
       "     default hidden behavior on the sphinx rendered scikit-learn.org.\n",
       "     See: https://github.com/scikit-learn/scikit-learn/issues/21755 */\n",
       "  display: inline-block !important;\n",
       "  position: relative;\n",
       "}\n",
       "\n",
       "#sk-container-id-1 div.sk-text-repr-fallback {\n",
       "  display: none;\n",
       "}\n",
       "\n",
       "div.sk-parallel-item,\n",
       "div.sk-serial,\n",
       "div.sk-item {\n",
       "  /* draw centered vertical line to link estimators */\n",
       "  background-image: linear-gradient(var(--sklearn-color-text-on-default-background), var(--sklearn-color-text-on-default-background));\n",
       "  background-size: 2px 100%;\n",
       "  background-repeat: no-repeat;\n",
       "  background-position: center center;\n",
       "}\n",
       "\n",
       "/* Parallel-specific style estimator block */\n",
       "\n",
       "#sk-container-id-1 div.sk-parallel-item::after {\n",
       "  content: \"\";\n",
       "  width: 100%;\n",
       "  border-bottom: 2px solid var(--sklearn-color-text-on-default-background);\n",
       "  flex-grow: 1;\n",
       "}\n",
       "\n",
       "#sk-container-id-1 div.sk-parallel {\n",
       "  display: flex;\n",
       "  align-items: stretch;\n",
       "  justify-content: center;\n",
       "  background-color: var(--sklearn-color-background);\n",
       "  position: relative;\n",
       "}\n",
       "\n",
       "#sk-container-id-1 div.sk-parallel-item {\n",
       "  display: flex;\n",
       "  flex-direction: column;\n",
       "}\n",
       "\n",
       "#sk-container-id-1 div.sk-parallel-item:first-child::after {\n",
       "  align-self: flex-end;\n",
       "  width: 50%;\n",
       "}\n",
       "\n",
       "#sk-container-id-1 div.sk-parallel-item:last-child::after {\n",
       "  align-self: flex-start;\n",
       "  width: 50%;\n",
       "}\n",
       "\n",
       "#sk-container-id-1 div.sk-parallel-item:only-child::after {\n",
       "  width: 0;\n",
       "}\n",
       "\n",
       "/* Serial-specific style estimator block */\n",
       "\n",
       "#sk-container-id-1 div.sk-serial {\n",
       "  display: flex;\n",
       "  flex-direction: column;\n",
       "  align-items: center;\n",
       "  background-color: var(--sklearn-color-background);\n",
       "  padding-right: 1em;\n",
       "  padding-left: 1em;\n",
       "}\n",
       "\n",
       "\n",
       "/* Toggleable style: style used for estimator/Pipeline/ColumnTransformer box that is\n",
       "clickable and can be expanded/collapsed.\n",
       "- Pipeline and ColumnTransformer use this feature and define the default style\n",
       "- Estimators will overwrite some part of the style using the `sk-estimator` class\n",
       "*/\n",
       "\n",
       "/* Pipeline and ColumnTransformer style (default) */\n",
       "\n",
       "#sk-container-id-1 div.sk-toggleable {\n",
       "  /* Default theme specific background. It is overwritten whether we have a\n",
       "  specific estimator or a Pipeline/ColumnTransformer */\n",
       "  background-color: var(--sklearn-color-background);\n",
       "}\n",
       "\n",
       "/* Toggleable label */\n",
       "#sk-container-id-1 label.sk-toggleable__label {\n",
       "  cursor: pointer;\n",
       "  display: block;\n",
       "  width: 100%;\n",
       "  margin-bottom: 0;\n",
       "  padding: 0.5em;\n",
       "  box-sizing: border-box;\n",
       "  text-align: center;\n",
       "}\n",
       "\n",
       "#sk-container-id-1 label.sk-toggleable__label-arrow:before {\n",
       "  /* Arrow on the left of the label */\n",
       "  content: \"▸\";\n",
       "  float: left;\n",
       "  margin-right: 0.25em;\n",
       "  color: var(--sklearn-color-icon);\n",
       "}\n",
       "\n",
       "#sk-container-id-1 label.sk-toggleable__label-arrow:hover:before {\n",
       "  color: var(--sklearn-color-text);\n",
       "}\n",
       "\n",
       "/* Toggleable content - dropdown */\n",
       "\n",
       "#sk-container-id-1 div.sk-toggleable__content {\n",
       "  max-height: 0;\n",
       "  max-width: 0;\n",
       "  overflow: hidden;\n",
       "  text-align: left;\n",
       "  /* unfitted */\n",
       "  background-color: var(--sklearn-color-unfitted-level-0);\n",
       "}\n",
       "\n",
       "#sk-container-id-1 div.sk-toggleable__content.fitted {\n",
       "  /* fitted */\n",
       "  background-color: var(--sklearn-color-fitted-level-0);\n",
       "}\n",
       "\n",
       "#sk-container-id-1 div.sk-toggleable__content pre {\n",
       "  margin: 0.2em;\n",
       "  border-radius: 0.25em;\n",
       "  color: var(--sklearn-color-text);\n",
       "  /* unfitted */\n",
       "  background-color: var(--sklearn-color-unfitted-level-0);\n",
       "}\n",
       "\n",
       "#sk-container-id-1 div.sk-toggleable__content.fitted pre {\n",
       "  /* unfitted */\n",
       "  background-color: var(--sklearn-color-fitted-level-0);\n",
       "}\n",
       "\n",
       "#sk-container-id-1 input.sk-toggleable__control:checked~div.sk-toggleable__content {\n",
       "  /* Expand drop-down */\n",
       "  max-height: 200px;\n",
       "  max-width: 100%;\n",
       "  overflow: auto;\n",
       "}\n",
       "\n",
       "#sk-container-id-1 input.sk-toggleable__control:checked~label.sk-toggleable__label-arrow:before {\n",
       "  content: \"▾\";\n",
       "}\n",
       "\n",
       "/* Pipeline/ColumnTransformer-specific style */\n",
       "\n",
       "#sk-container-id-1 div.sk-label input.sk-toggleable__control:checked~label.sk-toggleable__label {\n",
       "  color: var(--sklearn-color-text);\n",
       "  background-color: var(--sklearn-color-unfitted-level-2);\n",
       "}\n",
       "\n",
       "#sk-container-id-1 div.sk-label.fitted input.sk-toggleable__control:checked~label.sk-toggleable__label {\n",
       "  background-color: var(--sklearn-color-fitted-level-2);\n",
       "}\n",
       "\n",
       "/* Estimator-specific style */\n",
       "\n",
       "/* Colorize estimator box */\n",
       "#sk-container-id-1 div.sk-estimator input.sk-toggleable__control:checked~label.sk-toggleable__label {\n",
       "  /* unfitted */\n",
       "  background-color: var(--sklearn-color-unfitted-level-2);\n",
       "}\n",
       "\n",
       "#sk-container-id-1 div.sk-estimator.fitted input.sk-toggleable__control:checked~label.sk-toggleable__label {\n",
       "  /* fitted */\n",
       "  background-color: var(--sklearn-color-fitted-level-2);\n",
       "}\n",
       "\n",
       "#sk-container-id-1 div.sk-label label.sk-toggleable__label,\n",
       "#sk-container-id-1 div.sk-label label {\n",
       "  /* The background is the default theme color */\n",
       "  color: var(--sklearn-color-text-on-default-background);\n",
       "}\n",
       "\n",
       "/* On hover, darken the color of the background */\n",
       "#sk-container-id-1 div.sk-label:hover label.sk-toggleable__label {\n",
       "  color: var(--sklearn-color-text);\n",
       "  background-color: var(--sklearn-color-unfitted-level-2);\n",
       "}\n",
       "\n",
       "/* Label box, darken color on hover, fitted */\n",
       "#sk-container-id-1 div.sk-label.fitted:hover label.sk-toggleable__label.fitted {\n",
       "  color: var(--sklearn-color-text);\n",
       "  background-color: var(--sklearn-color-fitted-level-2);\n",
       "}\n",
       "\n",
       "/* Estimator label */\n",
       "\n",
       "#sk-container-id-1 div.sk-label label {\n",
       "  font-family: monospace;\n",
       "  font-weight: bold;\n",
       "  display: inline-block;\n",
       "  line-height: 1.2em;\n",
       "}\n",
       "\n",
       "#sk-container-id-1 div.sk-label-container {\n",
       "  text-align: center;\n",
       "}\n",
       "\n",
       "/* Estimator-specific */\n",
       "#sk-container-id-1 div.sk-estimator {\n",
       "  font-family: monospace;\n",
       "  border: 1px dotted var(--sklearn-color-border-box);\n",
       "  border-radius: 0.25em;\n",
       "  box-sizing: border-box;\n",
       "  margin-bottom: 0.5em;\n",
       "  /* unfitted */\n",
       "  background-color: var(--sklearn-color-unfitted-level-0);\n",
       "}\n",
       "\n",
       "#sk-container-id-1 div.sk-estimator.fitted {\n",
       "  /* fitted */\n",
       "  background-color: var(--sklearn-color-fitted-level-0);\n",
       "}\n",
       "\n",
       "/* on hover */\n",
       "#sk-container-id-1 div.sk-estimator:hover {\n",
       "  /* unfitted */\n",
       "  background-color: var(--sklearn-color-unfitted-level-2);\n",
       "}\n",
       "\n",
       "#sk-container-id-1 div.sk-estimator.fitted:hover {\n",
       "  /* fitted */\n",
       "  background-color: var(--sklearn-color-fitted-level-2);\n",
       "}\n",
       "\n",
       "/* Specification for estimator info (e.g. \"i\" and \"?\") */\n",
       "\n",
       "/* Common style for \"i\" and \"?\" */\n",
       "\n",
       ".sk-estimator-doc-link,\n",
       "a:link.sk-estimator-doc-link,\n",
       "a:visited.sk-estimator-doc-link {\n",
       "  float: right;\n",
       "  font-size: smaller;\n",
       "  line-height: 1em;\n",
       "  font-family: monospace;\n",
       "  background-color: var(--sklearn-color-background);\n",
       "  border-radius: 1em;\n",
       "  height: 1em;\n",
       "  width: 1em;\n",
       "  text-decoration: none !important;\n",
       "  margin-left: 1ex;\n",
       "  /* unfitted */\n",
       "  border: var(--sklearn-color-unfitted-level-1) 1pt solid;\n",
       "  color: var(--sklearn-color-unfitted-level-1);\n",
       "}\n",
       "\n",
       ".sk-estimator-doc-link.fitted,\n",
       "a:link.sk-estimator-doc-link.fitted,\n",
       "a:visited.sk-estimator-doc-link.fitted {\n",
       "  /* fitted */\n",
       "  border: var(--sklearn-color-fitted-level-1) 1pt solid;\n",
       "  color: var(--sklearn-color-fitted-level-1);\n",
       "}\n",
       "\n",
       "/* On hover */\n",
       "div.sk-estimator:hover .sk-estimator-doc-link:hover,\n",
       ".sk-estimator-doc-link:hover,\n",
       "div.sk-label-container:hover .sk-estimator-doc-link:hover,\n",
       ".sk-estimator-doc-link:hover {\n",
       "  /* unfitted */\n",
       "  background-color: var(--sklearn-color-unfitted-level-3);\n",
       "  color: var(--sklearn-color-background);\n",
       "  text-decoration: none;\n",
       "}\n",
       "\n",
       "div.sk-estimator.fitted:hover .sk-estimator-doc-link.fitted:hover,\n",
       ".sk-estimator-doc-link.fitted:hover,\n",
       "div.sk-label-container:hover .sk-estimator-doc-link.fitted:hover,\n",
       ".sk-estimator-doc-link.fitted:hover {\n",
       "  /* fitted */\n",
       "  background-color: var(--sklearn-color-fitted-level-3);\n",
       "  color: var(--sklearn-color-background);\n",
       "  text-decoration: none;\n",
       "}\n",
       "\n",
       "/* Span, style for the box shown on hovering the info icon */\n",
       ".sk-estimator-doc-link span {\n",
       "  display: none;\n",
       "  z-index: 9999;\n",
       "  position: relative;\n",
       "  font-weight: normal;\n",
       "  right: .2ex;\n",
       "  padding: .5ex;\n",
       "  margin: .5ex;\n",
       "  width: min-content;\n",
       "  min-width: 20ex;\n",
       "  max-width: 50ex;\n",
       "  color: var(--sklearn-color-text);\n",
       "  box-shadow: 2pt 2pt 4pt #999;\n",
       "  /* unfitted */\n",
       "  background: var(--sklearn-color-unfitted-level-0);\n",
       "  border: .5pt solid var(--sklearn-color-unfitted-level-3);\n",
       "}\n",
       "\n",
       ".sk-estimator-doc-link.fitted span {\n",
       "  /* fitted */\n",
       "  background: var(--sklearn-color-fitted-level-0);\n",
       "  border: var(--sklearn-color-fitted-level-3);\n",
       "}\n",
       "\n",
       ".sk-estimator-doc-link:hover span {\n",
       "  display: block;\n",
       "}\n",
       "\n",
       "/* \"?\"-specific style due to the `<a>` HTML tag */\n",
       "\n",
       "#sk-container-id-1 a.estimator_doc_link {\n",
       "  float: right;\n",
       "  font-size: 1rem;\n",
       "  line-height: 1em;\n",
       "  font-family: monospace;\n",
       "  background-color: var(--sklearn-color-background);\n",
       "  border-radius: 1rem;\n",
       "  height: 1rem;\n",
       "  width: 1rem;\n",
       "  text-decoration: none;\n",
       "  /* unfitted */\n",
       "  color: var(--sklearn-color-unfitted-level-1);\n",
       "  border: var(--sklearn-color-unfitted-level-1) 1pt solid;\n",
       "}\n",
       "\n",
       "#sk-container-id-1 a.estimator_doc_link.fitted {\n",
       "  /* fitted */\n",
       "  border: var(--sklearn-color-fitted-level-1) 1pt solid;\n",
       "  color: var(--sklearn-color-fitted-level-1);\n",
       "}\n",
       "\n",
       "/* On hover */\n",
       "#sk-container-id-1 a.estimator_doc_link:hover {\n",
       "  /* unfitted */\n",
       "  background-color: var(--sklearn-color-unfitted-level-3);\n",
       "  color: var(--sklearn-color-background);\n",
       "  text-decoration: none;\n",
       "}\n",
       "\n",
       "#sk-container-id-1 a.estimator_doc_link.fitted:hover {\n",
       "  /* fitted */\n",
       "  background-color: var(--sklearn-color-fitted-level-3);\n",
       "}\n",
       "</style><div id=\"sk-container-id-1\" class=\"sk-top-container\"><div class=\"sk-text-repr-fallback\"><pre>OneHotEncoder()</pre><b>In a Jupyter environment, please rerun this cell to show the HTML representation or trust the notebook. <br />On GitHub, the HTML representation is unable to render, please try loading this page with nbviewer.org.</b></div><div class=\"sk-container\" hidden><div class=\"sk-item\"><div class=\"sk-estimator fitted sk-toggleable\"><input class=\"sk-toggleable__control sk-hidden--visually\" id=\"sk-estimator-id-1\" type=\"checkbox\" checked><label for=\"sk-estimator-id-1\" class=\"sk-toggleable__label fitted sk-toggleable__label-arrow fitted\">&nbsp;&nbsp;OneHotEncoder<a class=\"sk-estimator-doc-link fitted\" rel=\"noreferrer\" target=\"_blank\" href=\"https://scikit-learn.org/1.4/modules/generated/sklearn.preprocessing.OneHotEncoder.html\">?<span>Documentation for OneHotEncoder</span></a><span class=\"sk-estimator-doc-link fitted\">i<span>Fitted</span></span></label><div class=\"sk-toggleable__content fitted\"><pre>OneHotEncoder()</pre></div> </div></div></div></div>"
      ],
      "text/plain": [
       "OneHotEncoder()"
      ]
     },
     "execution_count": 40,
     "metadata": {},
     "output_type": "execute_result"
    }
   ],
   "source": [
    "one_hot = OneHotEncoder()\n",
    "one_hot.fit(df[['engine_type','series','model','brand','assemble_place','transmission']])"
   ]
  },
  {
   "cell_type": "code",
   "execution_count": 41,
   "id": "24743876-cf3c-4fb2-afdd-6b99de84aefc",
   "metadata": {},
   "outputs": [],
   "source": [
    "column_trans=make_column_transformer((OneHotEncoder(categories=one_hot.categories_),['engine_type','series','model','brand',\n",
    "            'assemble_place','transmission']),remainder='passthrough')"
   ]
  },
  {
   "cell_type": "markdown",
   "id": "602b8774-073f-4a30-a77e-cea282cc1b95",
   "metadata": {},
   "source": [
    "# Sử dụng Standardization để chuẩn hóa dữ liệu"
   ]
  },
  {
   "cell_type": "code",
   "execution_count": 42,
   "id": "5d98149a-57d0-4803-b630-f807bbf4563a",
   "metadata": {},
   "outputs": [],
   "source": [
    "scaler = StandardScaler()\n",
    "#fit year và driven kms\n",
    "scaler.fit(df[['driven kms','num_of_seat','num_of_door']])\n",
    "df[['driven kms','num_of_seat','num_of_door']] = scaler.transform(df[['driven kms','num_of_seat','num_of_door']])"
   ]
  },
  {
   "cell_type": "code",
   "execution_count": 43,
   "id": "0b75aa46-d368-4daa-9cbf-93445573a223",
   "metadata": {},
   "outputs": [
    {
     "data": {
      "text/html": [
       "<div>\n",
       "<style scoped>\n",
       "    .dataframe tbody tr th:only-of-type {\n",
       "        vertical-align: middle;\n",
       "    }\n",
       "\n",
       "    .dataframe tbody tr th {\n",
       "        vertical-align: top;\n",
       "    }\n",
       "\n",
       "    .dataframe thead th {\n",
       "        text-align: right;\n",
       "    }\n",
       "</style>\n",
       "<table border=\"1\" class=\"dataframe\">\n",
       "  <thead>\n",
       "    <tr style=\"text-align: right;\">\n",
       "      <th></th>\n",
       "      <th>car_name</th>\n",
       "      <th>year</th>\n",
       "      <th>price</th>\n",
       "      <th>assemble_place</th>\n",
       "      <th>series</th>\n",
       "      <th>driven kms</th>\n",
       "      <th>num_of_door</th>\n",
       "      <th>num_of_seat</th>\n",
       "      <th>engine_type</th>\n",
       "      <th>transmission</th>\n",
       "      <th>url</th>\n",
       "      <th>brand</th>\n",
       "      <th>model</th>\n",
       "    </tr>\n",
       "  </thead>\n",
       "  <tbody>\n",
       "    <tr>\n",
       "      <th>0</th>\n",
       "      <td>LandRover Range Rover HSE 3.0</td>\n",
       "      <td>8.0</td>\n",
       "      <td>2.700000e+09</td>\n",
       "      <td>1</td>\n",
       "      <td>SUV</td>\n",
       "      <td>-0.013823</td>\n",
       "      <td>0.826997</td>\n",
       "      <td>-0.316686</td>\n",
       "      <td>Xăng</td>\n",
       "      <td>1</td>\n",
       "      <td>https://bonbanh.com/xe-landrover-range_rover-h...</td>\n",
       "      <td>LandRover</td>\n",
       "      <td>LandRover Range Rover HSE 3.0</td>\n",
       "    </tr>\n",
       "    <tr>\n",
       "      <th>1</th>\n",
       "      <td>Mitsubishi Outlander 2.0 CVT Premium</td>\n",
       "      <td>5.0</td>\n",
       "      <td>6.660000e+08</td>\n",
       "      <td>0</td>\n",
       "      <td>SUV</td>\n",
       "      <td>-0.014294</td>\n",
       "      <td>0.826997</td>\n",
       "      <td>0.860341</td>\n",
       "      <td>Xăng</td>\n",
       "      <td>1</td>\n",
       "      <td>https://bonbanh.com/xe-mitsubishi-outlander-2....</td>\n",
       "      <td>Mitsubishi</td>\n",
       "      <td>Mitsubishi Outlander 2.0 CVT Premium</td>\n",
       "    </tr>\n",
       "    <tr>\n",
       "      <th>2</th>\n",
       "      <td>Mazda 3 1.5L Luxury</td>\n",
       "      <td>4.0</td>\n",
       "      <td>4.900000e+08</td>\n",
       "      <td>0</td>\n",
       "      <td>Sedan</td>\n",
       "      <td>-0.014262</td>\n",
       "      <td>-0.836990</td>\n",
       "      <td>-0.316686</td>\n",
       "      <td>Xăng</td>\n",
       "      <td>1</td>\n",
       "      <td>https://bonbanh.com/xe-mazda-3-1.5l-luxury-201...</td>\n",
       "      <td>Mazda</td>\n",
       "      <td>Mazda 3 1.5L Luxury</td>\n",
       "    </tr>\n",
       "    <tr>\n",
       "      <th>3</th>\n",
       "      <td>Mazda 2 1.5 AT</td>\n",
       "      <td>8.0</td>\n",
       "      <td>3.650000e+08</td>\n",
       "      <td>0</td>\n",
       "      <td>Sedan</td>\n",
       "      <td>-0.014670</td>\n",
       "      <td>-0.836990</td>\n",
       "      <td>-0.316686</td>\n",
       "      <td>Xăng</td>\n",
       "      <td>1</td>\n",
       "      <td>https://bonbanh.com/xe-mazda-2-1.5-at-2015-491...</td>\n",
       "      <td>Mazda</td>\n",
       "      <td>Mazda 2 1.5 AT</td>\n",
       "    </tr>\n",
       "    <tr>\n",
       "      <th>4</th>\n",
       "      <td>Suzuki Swift GLX 1.2 AT</td>\n",
       "      <td>2.0</td>\n",
       "      <td>5.650000e+08</td>\n",
       "      <td>1</td>\n",
       "      <td>Hatchback</td>\n",
       "      <td>-0.015675</td>\n",
       "      <td>0.826997</td>\n",
       "      <td>-0.316686</td>\n",
       "      <td>Xăng</td>\n",
       "      <td>1</td>\n",
       "      <td>https://bonbanh.com/xe-suzuki-swift-glx-1.2-at...</td>\n",
       "      <td>Suzuki</td>\n",
       "      <td>Suzuki Swift GLX 1.2 AT</td>\n",
       "    </tr>\n",
       "  </tbody>\n",
       "</table>\n",
       "</div>"
      ],
      "text/plain": [
       "                                car_name  year         price  assemble_place  \\\n",
       "0          LandRover Range Rover HSE 3.0   8.0  2.700000e+09               1   \n",
       "1   Mitsubishi Outlander 2.0 CVT Premium   5.0  6.660000e+08               0   \n",
       "2                    Mazda 3 1.5L Luxury   4.0  4.900000e+08               0   \n",
       "3                         Mazda 2 1.5 AT   8.0  3.650000e+08               0   \n",
       "4                Suzuki Swift GLX 1.2 AT   2.0  5.650000e+08               1   \n",
       "\n",
       "      series  driven kms  num_of_door  num_of_seat engine_type  transmission  \\\n",
       "0        SUV   -0.013823     0.826997    -0.316686        Xăng             1   \n",
       "1        SUV   -0.014294     0.826997     0.860341        Xăng             1   \n",
       "2      Sedan   -0.014262    -0.836990    -0.316686        Xăng             1   \n",
       "3      Sedan   -0.014670    -0.836990    -0.316686        Xăng             1   \n",
       "4  Hatchback   -0.015675     0.826997    -0.316686        Xăng             1   \n",
       "\n",
       "                                                 url       brand  \\\n",
       "0  https://bonbanh.com/xe-landrover-range_rover-h...   LandRover   \n",
       "1  https://bonbanh.com/xe-mitsubishi-outlander-2....  Mitsubishi   \n",
       "2  https://bonbanh.com/xe-mazda-3-1.5l-luxury-201...       Mazda   \n",
       "3  https://bonbanh.com/xe-mazda-2-1.5-at-2015-491...       Mazda   \n",
       "4  https://bonbanh.com/xe-suzuki-swift-glx-1.2-at...      Suzuki   \n",
       "\n",
       "                                   model  \n",
       "0          LandRover Range Rover HSE 3.0  \n",
       "1   Mitsubishi Outlander 2.0 CVT Premium  \n",
       "2                    Mazda 3 1.5L Luxury  \n",
       "3                         Mazda 2 1.5 AT  \n",
       "4                Suzuki Swift GLX 1.2 AT  "
      ]
     },
     "execution_count": 43,
     "metadata": {},
     "output_type": "execute_result"
    }
   ],
   "source": [
    "df.head()"
   ]
  },
  {
   "cell_type": "markdown",
   "id": "e025c819-f840-429a-8d28-f6472dc2f752",
   "metadata": {},
   "source": [
    "# Huấn luyện mô hình RandomForest để dự đoán giá xe"
   ]
  },
  {
   "cell_type": "code",
   "execution_count": 44,
   "id": "468daf9c-6af8-42fa-a0b3-bb9d09e73c92",
   "metadata": {},
   "outputs": [],
   "source": [
    "one_hot = OneHotEncoder()\n",
    "X_categorical = one_hot.fit_transform(df[['engine_type', 'series', 'model', 'brand', 'assemble_place', 'transmission']])"
   ]
  },
  {
   "cell_type": "code",
   "execution_count": 45,
   "id": "4e6a9a50-68fc-417b-badc-d1a1893bf567",
   "metadata": {},
   "outputs": [],
   "source": [
    "scaler = StandardScaler()\n",
    "X_numerical = scaler.fit_transform(df[['year', 'driven kms', 'num_of_seat', 'num_of_door']])"
   ]
  },
  {
   "cell_type": "code",
   "execution_count": 46,
   "id": "d89c6bb8-903a-4555-8b11-dce99e9c64fe",
   "metadata": {},
   "outputs": [],
   "source": [
    "X = np.concatenate((X_categorical.toarray(), X_numerical), axis=1)"
   ]
  },
  {
   "cell_type": "code",
   "execution_count": 47,
   "id": "369bf2e5-3a22-4f79-81d8-c548e4b56d72",
   "metadata": {},
   "outputs": [],
   "source": [
    "y = df['price']"
   ]
  },
  {
   "cell_type": "code",
   "execution_count": 48,
   "id": "fae0bcd9-2a77-42ff-9a6a-7f733f4f0d12",
   "metadata": {},
   "outputs": [],
   "source": [
    "X_train, X_test, y_train, y_test = train_test_split(X, y, test_size=0.2, random_state=42)"
   ]
  },
  {
   "cell_type": "code",
   "execution_count": 49,
   "id": "e8444a92-648f-474c-ba02-066781ca90d9",
   "metadata": {},
   "outputs": [],
   "source": [
    "rf = RandomForestRegressor()"
   ]
  },
  {
   "cell_type": "code",
   "execution_count": 50,
   "id": "a350e639-ed4d-4060-8b48-0cea6ae1b9c8",
   "metadata": {},
   "outputs": [],
   "source": [
    "# Cấu hình tìm kiếm siêu tham số dựa trên phương pháp tìm kiếm ngẫu nhiên\n",
    "from sklearn.model_selection import KFold, RandomizedSearchCV\n",
    "\n",
    "rf = RandomForestRegressor()\n",
    "rf_hyperparams = {\n",
    "    'n_estimators': [200, 300, 400, 500, 600, 700, 800, 900, 1000],\n",
    "    'max_depth': [None, 10, 50, 90, 110],\n",
    "    'max_features': ['sqrt', 'log2'],\n",
    "    'min_samples_split': [2, 5, 10],\n",
    "    'min_samples_leaf': [1, 2, 4],\n",
    "    'bootstrap': [True, False]\n",
    "}\n",
    "\n",
    "rf_randomized_search = RandomizedSearchCV(\n",
    "    estimator=rf,\n",
    "    param_distributions=rf_hyperparams,\n",
    "    n_iter=10,\n",
    "    cv=KFold(n_splits=10, shuffle=True, random_state=42),\n",
    "    verbose=2,\n",
    "    random_state=42,\n",
    "    n_jobs=-1\n",
    ")"
   ]
  },
  {
   "cell_type": "code",
   "execution_count": null,
   "id": "0a12faec-0179-477d-817d-9b3a29063970",
   "metadata": {},
   "outputs": [
    {
     "name": "stdout",
     "output_type": "stream",
     "text": [
      "Fitting 10 folds for each of 10 candidates, totalling 100 fits\n"
     ]
    }
   ],
   "source": [
    "rf_randomized_search.fit(X_train, y_train)"
   ]
  },
  {
   "cell_type": "code",
   "execution_count": null,
   "id": "898250a9-709b-4159-87b4-b0929ff34ad7",
   "metadata": {},
   "outputs": [],
   "source": [
    "print(\"Best Hyperparameters:\", rf_randomized_search.best_params_)"
   ]
  },
  {
   "cell_type": "code",
   "execution_count": null,
   "id": "b1346ec9-7ce4-465e-8959-ed6538969f3d",
   "metadata": {},
   "outputs": [],
   "source": [
    "best_rf_model = RandomForestRegressor(**rf_randomized_search.best_params_)"
   ]
  },
  {
   "cell_type": "code",
   "execution_count": null,
   "id": "ebc029db-a29d-4ecc-9a66-e2b3db3a826e",
   "metadata": {},
   "outputs": [],
   "source": [
    "best_rf_model.fit(X_train, y_train)"
   ]
  },
  {
   "cell_type": "code",
   "execution_count": null,
   "id": "c4915e71-e68d-4242-8adf-90e000a1f833",
   "metadata": {},
   "outputs": [],
   "source": [
    "y_pred = best_rf_model.predict(X_test)\n",
    "r2 = r2_score(y_test, y_pred)\n",
    "print(\"R-squared score:\", r2)"
   ]
  },
  {
   "cell_type": "code",
   "execution_count": null,
   "id": "814df337-c237-4fe4-963c-8e9ff8d4ad58",
   "metadata": {},
   "outputs": [],
   "source": [
    "car = df[df['url'] == 'https://bonbanh.com/xe-toyota-corolla_altis-1.8g-at-2017-4941250']\n",
    "best_rf_model.predict(car[['engine_type','series','model','brand','year','driven kms','num_of_seat','num_of_door','transmission','assemble_place']])"
   ]
  }
 ],
 "metadata": {
  "kernelspec": {
   "display_name": "Python 3 (ipykernel)",
   "language": "python",
   "name": "python3"
  },
  "language_info": {
   "codemirror_mode": {
    "name": "ipython",
    "version": 3
   },
   "file_extension": ".py",
   "mimetype": "text/x-python",
   "name": "python",
   "nbconvert_exporter": "python",
   "pygments_lexer": "ipython3",
   "version": "3.12.1"
  }
 },
 "nbformat": 4,
 "nbformat_minor": 5
}
